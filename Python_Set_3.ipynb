{
 "cells": [
  {
   "cell_type": "markdown",
   "id": "fb587b3e-4b03-40d6-b528-1a0b51d0c34f",
   "metadata": {},
   "source": [
    "Q1. Create a dictionary called fruits with the following key-value pairs:\n",
    "- \"apple\": 0.75\n",
    "- \"banana\": 1.25\n",
    "- \"orange\": 0.90\n",
    "- Then, print out the price of a banana."
   ]
  },
  {
   "cell_type": "code",
   "execution_count": 1,
   "id": "9c6553c9-949a-4da4-aa8a-07dab61e68d3",
   "metadata": {},
   "outputs": [],
   "source": [
    "d1={'apple':.75,'banana':1.25,'orange':.9}"
   ]
  },
  {
   "cell_type": "code",
   "execution_count": 2,
   "id": "44c9d231-8d5c-49f7-b4d1-6274c2b773af",
   "metadata": {},
   "outputs": [
    {
     "data": {
      "text/plain": [
       "{'apple': 0.75, 'banana': 1.25, 'orange': 0.9}"
      ]
     },
     "execution_count": 2,
     "metadata": {},
     "output_type": "execute_result"
    }
   ],
   "source": [
    "d1"
   ]
  },
  {
   "cell_type": "code",
   "execution_count": 3,
   "id": "72a227c3-8efa-43d0-b325-e8af8211eaa7",
   "metadata": {},
   "outputs": [
    {
     "data": {
      "text/plain": [
       "1.25"
      ]
     },
     "execution_count": 3,
     "metadata": {},
     "output_type": "execute_result"
    }
   ],
   "source": [
    "d1['banana']"
   ]
  },
  {
   "cell_type": "markdown",
   "id": "abab1cb0-7a4b-4b9a-8bc7-6c1c5fb56185",
   "metadata": {},
   "source": [
    "Q2. Create an empty dictionary called ages. Add the following key-value pairs to the dictionary:\n",
    "- \"Alice\": 30\n",
    "- \"Bob\": 25\n",
    "- \"Charlie\": 35\n",
    "- Then, print out the age of Charlie."
   ]
  },
  {
   "cell_type": "code",
   "execution_count": 5,
   "id": "4bfc15bf-2b32-45a2-bf92-211c2010a0ea",
   "metadata": {},
   "outputs": [],
   "source": [
    "Ages={}"
   ]
  },
  {
   "cell_type": "code",
   "execution_count": 7,
   "id": "b76f00a1-e889-434c-9415-3e6e8836e242",
   "metadata": {},
   "outputs": [],
   "source": [
    "Ages['Alice']=30\n"
   ]
  },
  {
   "cell_type": "code",
   "execution_count": 8,
   "id": "93caaa88-5053-4aa4-9fa8-a9c742b992d0",
   "metadata": {},
   "outputs": [
    {
     "data": {
      "text/plain": [
       "{'Alice': 30}"
      ]
     },
     "execution_count": 8,
     "metadata": {},
     "output_type": "execute_result"
    }
   ],
   "source": [
    "Ages"
   ]
  },
  {
   "cell_type": "code",
   "execution_count": 15,
   "id": "e918b0a8-df85-48f0-8b50-91fe6358aff8",
   "metadata": {},
   "outputs": [],
   "source": [
    "Ages.update({'Bob':25,'Charlie':35})"
   ]
  },
  {
   "cell_type": "code",
   "execution_count": 16,
   "id": "cfa05dab-c336-4599-a76d-0ca0395fe831",
   "metadata": {},
   "outputs": [
    {
     "data": {
      "text/plain": [
       "{'Alice': 30, 'Bob': 25, 'Charlie': 35}"
      ]
     },
     "execution_count": 16,
     "metadata": {},
     "output_type": "execute_result"
    }
   ],
   "source": [
    "Ages"
   ]
  },
  {
   "cell_type": "code",
   "execution_count": 17,
   "id": "1c3d4de6-03ad-4f49-baa4-513091d9d9a3",
   "metadata": {},
   "outputs": [
    {
     "data": {
      "text/plain": [
       "35"
      ]
     },
     "execution_count": 17,
     "metadata": {},
     "output_type": "execute_result"
    }
   ],
   "source": [
    "Ages['Charlie']"
   ]
  },
  {
   "cell_type": "markdown",
   "id": "a954c8f5-d797-4019-8b43-76d1db00cec9",
   "metadata": {},
   "source": [
    "Q3. Write a function called word_count(text) that takes a string as input and returns a dictionary where\n",
    "each key is a word in the text and its value is the number of times that word appears in the text.\n",
    "- For example, word_count(\"hello world hello\") should return {\"hello\": 2, \"world\": 1}."
   ]
  },
  {
   "cell_type": "code",
   "execution_count": 36,
   "id": "e55cbcc9-4870-4865-9940-0520baaec248",
   "metadata": {},
   "outputs": [],
   "source": [
    "def word_count(text):\n",
    "    d2={}\n",
    "    l1=text.split(' ')\n",
    "    for i in range(len(l1)):\n",
    "        cnt=l1.count(l1[i])\n",
    "        d2[l1[i]]=cnt\n",
    "    return d2"
   ]
  },
  {
   "cell_type": "code",
   "execution_count": 39,
   "id": "b260f7e5-6cd5-4b0d-afc7-ecae60639640",
   "metadata": {},
   "outputs": [
    {
     "data": {
      "text/plain": [
       "{'abhi': 3, 'sang': 2, 'omy': 1}"
      ]
     },
     "execution_count": 39,
     "metadata": {},
     "output_type": "execute_result"
    }
   ],
   "source": [
    "word_count('abhi abhi sang omy sang abhi')"
   ]
  },
  {
   "cell_type": "markdown",
   "id": "f5a51c98-8f83-4d79-b7d1-44dc9348b767",
   "metadata": {},
   "source": [
    "Q4. Create a dictionary called phone_book with the following key-value pairs:\n",
    "- \"Alice\": \"555-1234\"\n",
    "- \"Bob\": \"555-5678\"\n",
    "- \"Charlie\": \"555-9012\"\n",
    "- Then, prompt the user to enter a name and print out the corresponding phone number. If the name is not in the phone book, print out a message saying that the name was not found."
   ]
  },
  {
   "cell_type": "code",
   "execution_count": 41,
   "id": "f53d8752-dac4-41f6-a3ca-e2f899713ccd",
   "metadata": {},
   "outputs": [],
   "source": [
    "phone_book={\"Alice\": \"555-1234\",\n",
    "\"Bob\": \"555-5678\",\n",
    "\"Charlie\": \"555-9012\"}"
   ]
  },
  {
   "cell_type": "code",
   "execution_count": 42,
   "id": "ec360693-10cc-455f-8810-baf21d1c0f98",
   "metadata": {},
   "outputs": [
    {
     "data": {
      "text/plain": [
       "{'Alice': '555-1234', 'Bob': '555-5678', 'Charlie': '555-9012'}"
      ]
     },
     "execution_count": 42,
     "metadata": {},
     "output_type": "execute_result"
    }
   ],
   "source": [
    "phone_book"
   ]
  },
  {
   "cell_type": "code",
   "execution_count": 80,
   "id": "c7673d81-0819-4182-ab6b-0311ed192794",
   "metadata": {},
   "outputs": [
    {
     "name": "stdin",
     "output_type": "stream",
     "text": [
      "Enter Name: Abhi\n"
     ]
    },
    {
     "name": "stdout",
     "output_type": "stream",
     "text": [
      "Name Not found\n"
     ]
    }
   ],
   "source": [
    "name=input(\"Enter Name:\")\n",
    "if name in phone_book.keys():\n",
    "    print(phone_book[name])\n",
    "else:\n",
    "    print(\"Name Not found\")"
   ]
  },
  {
   "cell_type": "markdown",
   "id": "08b4d4af-bae4-4ab1-810e-fe761334861a",
   "metadata": {},
   "source": [
    "Q5. Write a program that prompts the user to enter a number between 1 and 10. If the number is less than\n",
    "5, print out \"Too low!\", otherwise print out \"Too high!\"."
   ]
  },
  {
   "cell_type": "code",
   "execution_count": 82,
   "id": "e355e80b-558c-4cf1-80cf-cf267619ae71",
   "metadata": {},
   "outputs": [
    {
     "name": "stdin",
     "output_type": "stream",
     "text": [
      "Enter the number between 1 to 10 : 5\n"
     ]
    },
    {
     "name": "stdout",
     "output_type": "stream",
     "text": [
      "Too high\n"
     ]
    }
   ],
   "source": [
    "num=int(input(\"Enter the number between 1 to 10 :\"))\n",
    "if num<5:\n",
    "    print(\"Too Low\")\n",
    "else:\n",
    "    print(\"Too high\")"
   ]
  },
  {
   "cell_type": "markdown",
   "id": "1251b3df-c8d4-4a87-ab66-3cc69768c179",
   "metadata": {},
   "source": [
    "Q6. Write a program that prompts the user to enter a password. If the password is \"password123\", print\n",
    "out \"Access granted\", otherwise print out \"Access denied\"."
   ]
  },
  {
   "cell_type": "code",
   "execution_count": 86,
   "id": "7284d4a2-03d5-4b38-a2c6-2f84ca577066",
   "metadata": {},
   "outputs": [
    {
     "name": "stdin",
     "output_type": "stream",
     "text": [
      "Enter Password : password123\n"
     ]
    },
    {
     "name": "stdout",
     "output_type": "stream",
     "text": [
      "Access granted \n"
     ]
    }
   ],
   "source": [
    "password=input(\"Enter Password :\")\n",
    "if password==\"password123\":\n",
    "    print(\"Access granted \")\n",
    "else:\n",
    "    print(\"Acces Denied\")"
   ]
  },
  {
   "cell_type": "markdown",
   "id": "32ee70d5-e3b7-4521-b032-7eb2e396dd00",
   "metadata": {},
   "source": [
    "Q7. Write a program that prompts the user to enter a positive integer. Then, use a loop to print out all the\n",
    "odd numbers from 1 to that integer."
   ]
  },
  {
   "cell_type": "code",
   "execution_count": 90,
   "id": "8f392b79-ddc8-489a-9126-d9e32d0db554",
   "metadata": {},
   "outputs": [
    {
     "name": "stdin",
     "output_type": "stream",
     "text": [
      "Enter the positive  Integer value  : 15\n"
     ]
    },
    {
     "name": "stdout",
     "output_type": "stream",
     "text": [
      "1\n",
      "3\n",
      "5\n",
      "7\n",
      "9\n",
      "11\n",
      "13\n",
      "15\n"
     ]
    }
   ],
   "source": [
    "num1=int(input(\"Enter the positive  Integer value  :\"))\n",
    "i=1\n",
    "while(i<=num1):\n",
    "    if i%2!=0:\n",
    "        print(i)\n",
    "    i+=1"
   ]
  },
  {
   "cell_type": "markdown",
   "id": "3a44c94d-2622-45f0-b11c-d084ebb12faf",
   "metadata": {},
   "source": [
    "Q8. Write a program that generates a random number between 1 and 100 and then prompts the user to\n",
    "guess the number. If the user's guess is too low, print out \"Too low!\", if the guess is too high, print out \"Too\n",
    "high!\", and if the guess is correct, print out \"You win!\"."
   ]
  },
  {
   "cell_type": "code",
   "execution_count": 92,
   "id": "7ab72954-f0b4-449c-94bd-fc774377c052",
   "metadata": {},
   "outputs": [],
   "source": [
    "import random"
   ]
  },
  {
   "cell_type": "code",
   "execution_count": 106,
   "id": "c5f184e6-d1a3-46a1-890c-d371bc6e72bb",
   "metadata": {},
   "outputs": [
    {
     "name": "stdin",
     "output_type": "stream",
     "text": [
      "Enter the number between 1 and 100: 18\n"
     ]
    },
    {
     "name": "stdout",
     "output_type": "stream",
     "text": [
      "Too Low\n",
      "The random number is 73 and Guessed number is 18\n"
     ]
    }
   ],
   "source": [
    "#random.seed(1)\n",
    "n=random.randint(1,100)\n",
    "num2=int(input(\"Enter the number between 1 and 100:\"))\n",
    "if num2==n:\n",
    "    print(\"You win\")\n",
    "elif num2<n:\n",
    "    print(\"Too Low\")\n",
    "else:\n",
    "    print(\"Too High\")\n",
    "print(\"The random number is {} and Guessed number is {}\".format(n,num2))"
   ]
  },
  {
   "cell_type": "markdown",
   "id": "dab5c394-821d-445e-9095-40902f229dce",
   "metadata": {},
   "source": [
    "Q9. Write a program that generates a random number between 1 and 10 and then prompts the user to\n",
    "guess the number. The user has three attempts to guess the number. If the user guesses correctly within\n",
    "three attempts, print out \"You win!\", otherwise print out \"You lose!\"."
   ]
  },
  {
   "cell_type": "code",
   "execution_count": 129,
   "id": "a991cf1d-29f1-4f72-a2e9-cbd940ff4dd3",
   "metadata": {},
   "outputs": [
    {
     "name": "stdin",
     "output_type": "stream",
     "text": [
      "Enter the number between 1 and 10: 8\n",
      "Enter the number between 1 and 10: 5\n"
     ]
    },
    {
     "name": "stdout",
     "output_type": "stream",
     "text": [
      "You win\n",
      "The random number is 5 and Guessed number is 5\n"
     ]
    }
   ],
   "source": [
    "#random.seed(1)\n",
    "n=random.randint(1,10)\n",
    "i=1\n",
    "while(i<=3):\n",
    "    num2=int(input(\"Enter the number between 1 and 10:\"))\n",
    "    if num2==n:\n",
    "        print(\"You win\")\n",
    "        break\n",
    "    #\n",
    "    i=i+1\n",
    "if i==4:\n",
    "    print(\"You Loose!\")\n",
    "      \n",
    "print(\"The random number is {} and Guessed number is {}\".format(n,num2))"
   ]
  },
  {
   "cell_type": "markdown",
   "id": "ff72dbc7-f717-4f5e-980a-c8839547fd72",
   "metadata": {},
   "source": [
    "Q10. Write a program that prompts the user to enter their age and then prints out whether they are a child\n",
    "(age 0-12), a teenager (age 13-19), an adult (age 20-59), or a senior (age 60+)"
   ]
  },
  {
   "cell_type": "code",
   "execution_count": 136,
   "id": "458ad99c-6186-4d82-8aa9-af1067d7e8af",
   "metadata": {},
   "outputs": [
    {
     "name": "stdin",
     "output_type": "stream",
     "text": [
      "Enter the age: -90\n"
     ]
    },
    {
     "name": "stdout",
     "output_type": "stream",
     "text": [
      "Enter Valid Age \n"
     ]
    }
   ],
   "source": [
    "age=int(input(\"Enter the age:\"))\n",
    "if age <0:\n",
    "    print(\"Enter Valid Age \")\n",
    "elif (age >=0 and age<=12):\n",
    "    print(\" age {} is of child\".format(age))\n",
    "elif (age >=13 and age<=19):\n",
    "    print(\" age {} is of Teenger\".format(age))\n",
    "elif (age >=20 and age<=59):\n",
    "    print(\" age {} is of Adult\".format(age))\n",
    "elif (age >=60):\n",
    "    print(\" age {} is of Senior Citizen\".format(age))\n",
    "else:\n",
    "    print(\"Not a vlid Age\")"
   ]
  },
  {
   "cell_type": "code",
   "execution_count": null,
   "id": "ac4a2d93-bc99-4eab-abd7-7754a4cdef0b",
   "metadata": {},
   "outputs": [],
   "source": []
  }
 ],
 "metadata": {
  "kernelspec": {
   "display_name": "Python 3 (ipykernel)",
   "language": "python",
   "name": "python3"
  },
  "language_info": {
   "codemirror_mode": {
    "name": "ipython",
    "version": 3
   },
   "file_extension": ".py",
   "mimetype": "text/x-python",
   "name": "python",
   "nbconvert_exporter": "python",
   "pygments_lexer": "ipython3",
   "version": "3.10.8"
  }
 },
 "nbformat": 4,
 "nbformat_minor": 5
}
