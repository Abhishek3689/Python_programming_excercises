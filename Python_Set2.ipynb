{
 "cells": [
  {
   "cell_type": "markdown",
   "id": "a0db08bb-35d5-4f54-ae10-049e589e081f",
   "metadata": {},
   "source": [
    "Q1. Create a list in python using the followings: 2,3,4,5,6,7 with variable ‘a’\n",
    "Add ‘mango to the above list\n",
    "Also add banana, grapes & orange in the list\n",
    "insert apple in the 5th position of a variable ‘a’\n",
    "Remove last item from the list"
   ]
  },
  {
   "cell_type": "code",
   "execution_count": 1,
   "id": "d69fca8f-642d-4dcf-83d5-ad3aad2aa318",
   "metadata": {},
   "outputs": [],
   "source": [
    "a=[2,3,4,5,6,7]"
   ]
  },
  {
   "cell_type": "code",
   "execution_count": 2,
   "id": "f7802a35-faa3-40a2-b870-fda4e5c08a8e",
   "metadata": {},
   "outputs": [],
   "source": [
    "a.append(\"mango\")"
   ]
  },
  {
   "cell_type": "code",
   "execution_count": 3,
   "id": "1961d346-6859-41ee-aaf5-f8ee836440d3",
   "metadata": {},
   "outputs": [
    {
     "data": {
      "text/plain": [
       "[2, 3, 4, 5, 6, 7, 'mango']"
      ]
     },
     "execution_count": 3,
     "metadata": {},
     "output_type": "execute_result"
    }
   ],
   "source": [
    "a"
   ]
  },
  {
   "cell_type": "code",
   "execution_count": 4,
   "id": "af08d3a4-6c31-47fc-80c9-bea42b26957d",
   "metadata": {},
   "outputs": [],
   "source": [
    "a.extend([\"banana\",\"grapes\",\"orange\"])"
   ]
  },
  {
   "cell_type": "code",
   "execution_count": 5,
   "id": "8a45ba51-b82c-4f0b-941a-ea2b658455e9",
   "metadata": {},
   "outputs": [
    {
     "data": {
      "text/plain": [
       "[2, 3, 4, 5, 6, 7, 'mango', 'banana', 'grapes', 'orange']"
      ]
     },
     "execution_count": 5,
     "metadata": {},
     "output_type": "execute_result"
    }
   ],
   "source": [
    "a"
   ]
  },
  {
   "cell_type": "code",
   "execution_count": 6,
   "id": "646c1345-2703-4866-aac8-c88676a955ca",
   "metadata": {},
   "outputs": [
    {
     "data": {
      "text/plain": [
       "10"
      ]
     },
     "execution_count": 6,
     "metadata": {},
     "output_type": "execute_result"
    }
   ],
   "source": [
    "len(a)"
   ]
  },
  {
   "cell_type": "code",
   "execution_count": 7,
   "id": "746ab94d-db57-4339-aefe-13fa935d75b4",
   "metadata": {},
   "outputs": [],
   "source": [
    "a.insert(4,'apple')"
   ]
  },
  {
   "cell_type": "code",
   "execution_count": 8,
   "id": "c83a062b-9f86-495e-9501-9fca160ba905",
   "metadata": {},
   "outputs": [
    {
     "data": {
      "text/plain": [
       "[2, 3, 4, 5, 'apple', 6, 7, 'mango', 'banana', 'grapes', 'orange']"
      ]
     },
     "execution_count": 8,
     "metadata": {},
     "output_type": "execute_result"
    }
   ],
   "source": [
    "a"
   ]
  },
  {
   "cell_type": "code",
   "execution_count": 9,
   "id": "b845c70b-1c05-4031-81b2-20e322b5de6c",
   "metadata": {},
   "outputs": [
    {
     "data": {
      "text/plain": [
       "'orange'"
      ]
     },
     "execution_count": 9,
     "metadata": {},
     "output_type": "execute_result"
    }
   ],
   "source": [
    "a.pop()"
   ]
  },
  {
   "cell_type": "code",
   "execution_count": 10,
   "id": "cf254bb3-b920-4fe6-8cbe-d596929f3070",
   "metadata": {},
   "outputs": [
    {
     "data": {
      "text/plain": [
       "[2, 3, 4, 5, 'apple', 6, 7, 'mango', 'banana', 'grapes']"
      ]
     },
     "execution_count": 10,
     "metadata": {},
     "output_type": "execute_result"
    }
   ],
   "source": [
    "a"
   ]
  },
  {
   "cell_type": "markdown",
   "id": "fedd1899-f794-45f9-9c63-62bfe9cb00f4",
   "metadata": {},
   "source": [
    "Q2.\n",
    "- L = [1,2,3,4,5,6,7]\n",
    "- Using the above list slice from 1:4"
   ]
  },
  {
   "cell_type": "code",
   "execution_count": 11,
   "id": "b5d9d4d5-757e-4d3c-bbc2-935e36e78b8d",
   "metadata": {},
   "outputs": [],
   "source": [
    "L = [1,2,3,4,5,6,7]"
   ]
  },
  {
   "cell_type": "code",
   "execution_count": 12,
   "id": "921981a4-f1ab-4763-8d1b-80eb43d77f3d",
   "metadata": {},
   "outputs": [
    {
     "data": {
      "text/plain": [
       "[2, 3, 4]"
      ]
     },
     "execution_count": 12,
     "metadata": {},
     "output_type": "execute_result"
    }
   ],
   "source": [
    "L[1:4]"
   ]
  },
  {
   "cell_type": "markdown",
   "id": "9aa388d1-d7e8-44e8-acdc-7b9a4f48c4cd",
   "metadata": {},
   "source": [
    "Q3. Reverse the order of given string L = [4,5,6,8,3] Without using reverse() function."
   ]
  },
  {
   "cell_type": "code",
   "execution_count": 13,
   "id": "b866d8c7-81f2-441c-a614-b59e2842e919",
   "metadata": {},
   "outputs": [
    {
     "data": {
      "text/plain": [
       "[1, 2, 3, 4, 5, 6, 7]"
      ]
     },
     "execution_count": 13,
     "metadata": {},
     "output_type": "execute_result"
    }
   ],
   "source": [
    "L"
   ]
  },
  {
   "cell_type": "code",
   "execution_count": 14,
   "id": "0673bf51-2acf-43c1-8a43-76ad3947cf8e",
   "metadata": {},
   "outputs": [
    {
     "data": {
      "text/plain": [
       "[7, 6, 5, 4, 3, 2, 1]"
      ]
     },
     "execution_count": 14,
     "metadata": {},
     "output_type": "execute_result"
    }
   ],
   "source": [
    "L[::-1]"
   ]
  },
  {
   "cell_type": "markdown",
   "id": "3ad794b5-5525-40ec-8966-ebe402936016",
   "metadata": {},
   "source": [
    "Q4. Use list comprehension to square the given list L=[2,4,7,3,6,8]"
   ]
  },
  {
   "cell_type": "code",
   "execution_count": 15,
   "id": "6c248855-d675-490c-91e2-e37860a3f2de",
   "metadata": {},
   "outputs": [],
   "source": [
    "l1=[2,4,7,3,6,8]"
   ]
  },
  {
   "cell_type": "code",
   "execution_count": 16,
   "id": "8921652a-cfb5-419d-a3f5-a9bb39ef6f15",
   "metadata": {},
   "outputs": [
    {
     "data": {
      "text/plain": [
       "[4, 16, 49, 9, 36, 64]"
      ]
     },
     "execution_count": 16,
     "metadata": {},
     "output_type": "execute_result"
    }
   ],
   "source": [
    "[x**2 for x in l1]"
   ]
  },
  {
   "cell_type": "markdown",
   "id": "c6287447-ec12-493c-82b6-01c49a586122",
   "metadata": {},
   "source": [
    "Q5. Create a function that takes in a tuple of integers and returns the sum of the integers. Test the\n",
    "function with a tuple of your choice."
   ]
  },
  {
   "cell_type": "code",
   "execution_count": 17,
   "id": "33d3788e-e02c-4b04-ad91-73333cc0ccc2",
   "metadata": {},
   "outputs": [],
   "source": [
    "def sum_tuple(t):\n",
    "    s=0\n",
    "    for i in t:\n",
    "        s=s+i\n",
    "    return s"
   ]
  },
  {
   "cell_type": "code",
   "execution_count": 18,
   "id": "2805ee7f-d467-493b-ac79-c4735d0f65da",
   "metadata": {},
   "outputs": [
    {
     "data": {
      "text/plain": [
       "15"
      ]
     },
     "execution_count": 18,
     "metadata": {},
     "output_type": "execute_result"
    }
   ],
   "source": [
    "sum_tuple((1,4,6,4))"
   ]
  },
  {
   "cell_type": "markdown",
   "id": "627f5d22-a5e3-420d-b228-d20e5cb6de8f",
   "metadata": {},
   "source": [
    "Q6. Create two sets of your favourite fruits, and use the union() method to combine them into a single set.\n",
    "Print the resulting set to the console."
   ]
  },
  {
   "cell_type": "code",
   "execution_count": 19,
   "id": "3c38285b-eb0e-437d-9943-ca8ca4fe589c",
   "metadata": {},
   "outputs": [],
   "source": [
    "s1={\"mango\",\"banana\",\"apple\"}\n",
    "s2={\"papaya\",\"grapes\",\"watermelon\"}"
   ]
  },
  {
   "cell_type": "code",
   "execution_count": 20,
   "id": "4d5e93f9-3f50-44e2-861b-4ce68680542e",
   "metadata": {},
   "outputs": [
    {
     "data": {
      "text/plain": [
       "{'apple', 'banana', 'grapes', 'mango', 'papaya', 'watermelon'}"
      ]
     },
     "execution_count": 20,
     "metadata": {},
     "output_type": "execute_result"
    }
   ],
   "source": [
    "s1.union(s2)"
   ]
  },
  {
   "cell_type": "markdown",
   "id": "a678b7d5-1317-4c05-b288-5ee83916a5c5",
   "metadata": {},
   "source": [
    "Q7. Create a set of random words, and use the add() method to add a new word to the set. Print the\n",
    "resulting set to the console."
   ]
  },
  {
   "cell_type": "code",
   "execution_count": 21,
   "id": "2b4be513-7e9b-49f1-8669-a7e347888bd6",
   "metadata": {},
   "outputs": [],
   "source": [
    "s3={\"me\",\"my\",\"mine\"}"
   ]
  },
  {
   "cell_type": "code",
   "execution_count": 22,
   "id": "f55aebc6-505d-455a-96bd-b7c449f7eb25",
   "metadata": {},
   "outputs": [
    {
     "data": {
      "text/plain": [
       "{'me', 'mine', 'my'}"
      ]
     },
     "execution_count": 22,
     "metadata": {},
     "output_type": "execute_result"
    }
   ],
   "source": [
    "s3"
   ]
  },
  {
   "cell_type": "code",
   "execution_count": 23,
   "id": "bb216310-4518-442d-acff-bd1dadf3b942",
   "metadata": {},
   "outputs": [],
   "source": [
    "s3.add(\"myself\")"
   ]
  },
  {
   "cell_type": "code",
   "execution_count": 24,
   "id": "5d92402b-ed68-4358-a838-56941390fc4b",
   "metadata": {},
   "outputs": [
    {
     "data": {
      "text/plain": [
       "{'me', 'mine', 'my', 'myself'}"
      ]
     },
     "execution_count": 24,
     "metadata": {},
     "output_type": "execute_result"
    }
   ],
   "source": [
    "s3"
   ]
  },
  {
   "cell_type": "markdown",
   "id": "d7ff9608-245b-43ce-b6a5-681f6baf5a10",
   "metadata": {},
   "source": [
    "Q8. Create a set of your favourite animals, and use the remove() method to remove one animal from the\n",
    "set. Print the resulting set to the console."
   ]
  },
  {
   "cell_type": "code",
   "execution_count": 25,
   "id": "fdb27d5d-eebb-45cf-8138-1941d8d7fac1",
   "metadata": {},
   "outputs": [],
   "source": [
    "s4={\"dog\",\"cow\",\"cat\",\"tiger\"}"
   ]
  },
  {
   "cell_type": "code",
   "execution_count": 26,
   "id": "b7a7f456-d065-4a92-b8ec-0948232abb58",
   "metadata": {},
   "outputs": [
    {
     "data": {
      "text/plain": [
       "{'cat', 'cow', 'dog', 'tiger'}"
      ]
     },
     "execution_count": 26,
     "metadata": {},
     "output_type": "execute_result"
    }
   ],
   "source": [
    "s4"
   ]
  },
  {
   "cell_type": "code",
   "execution_count": 27,
   "id": "70870350-3893-4604-97d1-3fa0424d07bd",
   "metadata": {},
   "outputs": [],
   "source": [
    "s4.remove(\"cat\")"
   ]
  },
  {
   "cell_type": "code",
   "execution_count": 28,
   "id": "0b839f63-e863-4163-a9b4-a1988b3d6155",
   "metadata": {},
   "outputs": [
    {
     "data": {
      "text/plain": [
       "{'cow', 'dog', 'tiger'}"
      ]
     },
     "execution_count": 28,
     "metadata": {},
     "output_type": "execute_result"
    }
   ],
   "source": [
    "s4"
   ]
  },
  {
   "cell_type": "markdown",
   "id": "1c791eb2-b713-413b-bba8-c2a96684ace3",
   "metadata": {},
   "source": [
    "Q9.\n",
    "- favorite_books = {\"1984\", \"To Kill a Mockingbird\", \"Pride and Prejudice\"}\n",
    "- favorite_movies = [\"The Shawshank Redemption\", \"The Godfather\", \"The Dark Knight\"]\n",
    "- Use the zip() function to combine the book set and movie list into a list of tuples representing book/movie pairs. Print the resulting list."
   ]
  },
  {
   "cell_type": "code",
   "execution_count": 29,
   "id": "69db98c9-7469-47d2-b6e1-75d13201e60e",
   "metadata": {},
   "outputs": [],
   "source": [
    "favorite_books = {\"1984\", \"To Kill a Mockingbird\", \"Pride and Prejudice\"}\n",
    "favorite_movies = [\"The Shawshank Redemption\", \"The Godfather\", \"The Dark Knight\"]"
   ]
  },
  {
   "cell_type": "code",
   "execution_count": 30,
   "id": "b1005534-812b-48c1-9f2b-7be08fc912bc",
   "metadata": {},
   "outputs": [
    {
     "data": {
      "text/plain": [
       "[('1984', 'The Shawshank Redemption'),\n",
       " ('To Kill a Mockingbird', 'The Godfather'),\n",
       " ('Pride and Prejudice', 'The Dark Knight')]"
      ]
     },
     "execution_count": 30,
     "metadata": {},
     "output_type": "execute_result"
    }
   ],
   "source": [
    "list(zip(favorite_books,favorite_movies))"
   ]
  },
  {
   "cell_type": "markdown",
   "id": "7a3054ee-0744-4a24-bb0f-63e58ca5a894",
   "metadata": {},
   "source": [
    "Q10. Write a Python program to find the difference between consecutive numbers in a list."
   ]
  },
  {
   "cell_type": "code",
   "execution_count": 31,
   "id": "0778c7ae-be54-4da3-bdaf-ed1e9c7a719d",
   "metadata": {},
   "outputs": [
    {
     "data": {
      "text/plain": [
       "[2, 4, 7, 3, 6, 8]"
      ]
     },
     "execution_count": 31,
     "metadata": {},
     "output_type": "execute_result"
    }
   ],
   "source": [
    "l1"
   ]
  },
  {
   "cell_type": "code",
   "execution_count": 32,
   "id": "3c6d5c0a-05b9-4310-846a-f8fdb9f6b069",
   "metadata": {},
   "outputs": [],
   "source": [
    "s_list=[]\n",
    "for i in range(len(l1)):\n",
    "    j=i+1\n",
    "    if j>=(len(l1)):\n",
    "        break\n",
    "    else:\n",
    "        s=l1[j]-l1[i]\n",
    "        s_list.append(s)\n",
    "    "
   ]
  },
  {
   "cell_type": "code",
   "execution_count": 33,
   "id": "0abfed04-8091-4948-837a-b5bc5b3e4649",
   "metadata": {},
   "outputs": [
    {
     "data": {
      "text/plain": [
       "[2, 3, -4, 3, 2]"
      ]
     },
     "execution_count": 33,
     "metadata": {},
     "output_type": "execute_result"
    }
   ],
   "source": [
    "s_list"
   ]
  },
  {
   "cell_type": "code",
   "execution_count": null,
   "id": "4bf9aabb-98fd-4921-b2c8-eb069cf0ea6b",
   "metadata": {},
   "outputs": [],
   "source": []
  }
 ],
 "metadata": {
  "kernelspec": {
   "display_name": "Python 3 (ipykernel)",
   "language": "python",
   "name": "python3"
  },
  "language_info": {
   "codemirror_mode": {
    "name": "ipython",
    "version": 3
   },
   "file_extension": ".py",
   "mimetype": "text/x-python",
   "name": "python",
   "nbconvert_exporter": "python",
   "pygments_lexer": "ipython3",
   "version": "3.10.8"
  }
 },
 "nbformat": 4,
 "nbformat_minor": 5
}
