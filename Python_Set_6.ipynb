{
 "cells": [
  {
   "cell_type": "markdown",
   "id": "ef73efba-c1e4-4e67-bd75-480c1cfdb217",
   "metadata": {},
   "source": [
    "Q1. Write a program that prints the first 10 even numbers using a for loop."
   ]
  },
  {
   "cell_type": "code",
   "execution_count": 1,
   "id": "3224d69d-8165-46ab-b027-e6ae1c578f73",
   "metadata": {},
   "outputs": [
    {
     "name": "stdout",
     "output_type": "stream",
     "text": [
      "2\n",
      "4\n",
      "6\n",
      "8\n",
      "10\n",
      "12\n",
      "14\n",
      "16\n",
      "18\n",
      "20\n"
     ]
    }
   ],
   "source": [
    "for i in range(1,21):\n",
    "    if i%2==0:\n",
    "        print(i)"
   ]
  },
  {
   "cell_type": "markdown",
   "id": "69fde14e-42de-472a-8b7d-f40f054441f5",
   "metadata": {},
   "source": [
    "Q2. Write a program that takes a list of strings and prints out each string in reverse order using a for loop."
   ]
  },
  {
   "cell_type": "code",
   "execution_count": 2,
   "id": "f31f15cb-5ca2-46cb-9d68-8e10fb1a51ea",
   "metadata": {},
   "outputs": [],
   "source": [
    "l1=['abhishek','sangeeta','yuvraj']"
   ]
  },
  {
   "cell_type": "code",
   "execution_count": 3,
   "id": "1837d888-adde-4b16-a245-3f8c3c39c8b0",
   "metadata": {},
   "outputs": [
    {
     "data": {
      "text/plain": [
       "['abhishek', 'sangeeta', 'yuvraj']"
      ]
     },
     "execution_count": 3,
     "metadata": {},
     "output_type": "execute_result"
    }
   ],
   "source": [
    "l1"
   ]
  },
  {
   "cell_type": "code",
   "execution_count": 4,
   "id": "02faae21-1e41-4d38-af3a-851953c00dbf",
   "metadata": {},
   "outputs": [
    {
     "name": "stdout",
     "output_type": "stream",
     "text": [
      "kehsihba\n",
      "ateegnas\n",
      "jarvuy\n"
     ]
    }
   ],
   "source": [
    "for word in l1:\n",
    "    x=word[::-1]\n",
    "    print(x)"
   ]
  },
  {
   "cell_type": "markdown",
   "id": "1716e007-f655-4062-a27f-2ff5ceb7f9cf",
   "metadata": {},
   "source": [
    "Q3. Write a program that prints the multiplication table of a given number using a for loop."
   ]
  },
  {
   "cell_type": "code",
   "execution_count": 5,
   "id": "746c0ca0-05e1-4a47-b55f-edff76aa1e1d",
   "metadata": {},
   "outputs": [],
   "source": [
    "def multiplication_table(n):\n",
    "    for i in range(1,11):\n",
    "        print(i*n)"
   ]
  },
  {
   "cell_type": "code",
   "execution_count": 6,
   "id": "cda8d4d9-e898-4abd-a7cc-34d31b9f68cd",
   "metadata": {},
   "outputs": [
    {
     "name": "stdout",
     "output_type": "stream",
     "text": [
      "3\n",
      "6\n",
      "9\n",
      "12\n",
      "15\n",
      "18\n",
      "21\n",
      "24\n",
      "27\n",
      "30\n"
     ]
    }
   ],
   "source": [
    "multiplication_table(3)"
   ]
  },
  {
   "cell_type": "markdown",
   "id": "b43ecb37-0ee1-48b6-aefe-1e42c8cb6c48",
   "metadata": {},
   "source": [
    "Q4. Write a program that takes a list of integers as input and returns the sum of all the numbers in the list\n",
    "using a for loop."
   ]
  },
  {
   "cell_type": "code",
   "execution_count": 7,
   "id": "4cb7c9ef-8724-4057-9726-cd0f9e086097",
   "metadata": {},
   "outputs": [],
   "source": [
    "def sum_list(n):\n",
    "    s=0\n",
    "    for i in n:\n",
    "        s=s+i\n",
    "    return s"
   ]
  },
  {
   "cell_type": "code",
   "execution_count": 8,
   "id": "158bf1dd-0886-4d2c-8333-cdcbedaf6e35",
   "metadata": {},
   "outputs": [
    {
     "data": {
      "text/plain": [
       "30"
      ]
     },
     "execution_count": 8,
     "metadata": {},
     "output_type": "execute_result"
    }
   ],
   "source": [
    "sum_list([1,4,6,8,11])"
   ]
  },
  {
   "cell_type": "markdown",
   "id": "281b2b47-9d56-4177-989d-59182c71bd45",
   "metadata": {},
   "source": [
    "Q5. Write a program that prompts the user for a positive integer and then prints out all the prime\n",
    "numbers up to that number using a for loop."
   ]
  },
  {
   "cell_type": "code",
   "execution_count": 9,
   "id": "a5f4a9e5-a354-443b-88fe-08b25016f954",
   "metadata": {},
   "outputs": [],
   "source": [
    "def prime_no(x):\n",
    "    if x<0:\n",
    "        print(\"Please enter positive number\")\n",
    "    else:\n",
    "        for i in range(x+1):\n",
    "            if i==2:\n",
    "                print(i)\n",
    "            for j in range(2,i):\n",
    "                if i%j==0:\n",
    "                    break\n",
    "                if j==i-1:\n",
    "                    print(i)\n",
    "        \n",
    "            "
   ]
  },
  {
   "cell_type": "code",
   "execution_count": 10,
   "id": "96611103-55aa-48ec-8eea-9e8dfe418601",
   "metadata": {},
   "outputs": [
    {
     "name": "stdout",
     "output_type": "stream",
     "text": [
      "2\n",
      "3\n",
      "5\n",
      "7\n",
      "11\n",
      "13\n",
      "17\n",
      "19\n",
      "23\n",
      "29\n",
      "31\n",
      "37\n",
      "41\n",
      "43\n",
      "47\n",
      "53\n",
      "59\n"
     ]
    }
   ],
   "source": [
    "prime_no(59)"
   ]
  },
  {
   "cell_type": "markdown",
   "id": "b8618072-07a3-45a0-bb41-e03dee95055c",
   "metadata": {},
   "source": [
    "Q6. Write a program that prompts the user to enter a password until the correct password is entered\n",
    "using a while loop."
   ]
  },
  {
   "cell_type": "code",
   "execution_count": 11,
   "id": "61895bb8-b9f7-49a7-9a05-6c3f50c81c9e",
   "metadata": {},
   "outputs": [
    {
     "name": "stdin",
     "output_type": "stream",
     "text": [
      "Enter the password password123\n"
     ]
    }
   ],
   "source": [
    "## let the correct password be password123\n",
    "pwd=input(\"Enter the password\")\n",
    "while(pwd!='password123'):\n",
    "    pwd=input(\"Enter the password\")\n",
    "    "
   ]
  },
  {
   "cell_type": "markdown",
   "id": "919538d9-bb63-4192-ba75-f3b69efe2bd3",
   "metadata": {},
   "source": [
    "Q7. Write a program that takes a list of strings and prints out each string in reverse order using a while\n",
    "loop."
   ]
  },
  {
   "cell_type": "code",
   "execution_count": 12,
   "id": "fc1c13f8-e45d-4259-87d3-fadc278a62fe",
   "metadata": {},
   "outputs": [],
   "source": [
    "l1=['Data','Science','Master','Program']"
   ]
  },
  {
   "cell_type": "code",
   "execution_count": 13,
   "id": "8b2b2de7-4bab-4b5d-b4d0-e06ab9d439f3",
   "metadata": {},
   "outputs": [
    {
     "data": {
      "text/plain": [
       "['Data', 'Science', 'Master', 'Program']"
      ]
     },
     "execution_count": 13,
     "metadata": {},
     "output_type": "execute_result"
    }
   ],
   "source": [
    "l1"
   ]
  },
  {
   "cell_type": "code",
   "execution_count": 14,
   "id": "65cebcad-c732-48b7-93af-fe9f566bd9db",
   "metadata": {},
   "outputs": [
    {
     "name": "stdout",
     "output_type": "stream",
     "text": [
      "ataD\n",
      "ecneicS\n",
      "retsaM\n",
      "margorP\n"
     ]
    }
   ],
   "source": [
    "x=0\n",
    "while(x<len(l1)):\n",
    "    s=l1[x][::-1]\n",
    "    print(s)\n",
    "    x=x+1"
   ]
  },
  {
   "cell_type": "markdown",
   "id": "53c73889-a16f-41af-bf0e-6e6f1ce301f3",
   "metadata": {},
   "source": [
    "Q8. Write a program that prompts the user to enter a positive integer and then prints out all the Fibonacci\n",
    "numbers up to that number using a while loop."
   ]
  },
  {
   "cell_type": "code",
   "execution_count": 15,
   "id": "fbe199a8-7434-41eb-b5dc-7b2230ef984a",
   "metadata": {},
   "outputs": [
    {
     "name": "stdin",
     "output_type": "stream",
     "text": [
      "Enter the number : 10\n"
     ]
    },
    {
     "name": "stdout",
     "output_type": "stream",
     "text": [
      "0\n",
      "1\n",
      "1\n",
      "2\n",
      "3\n",
      "5\n",
      "8\n"
     ]
    }
   ],
   "source": [
    "num=int(input(\"Enter the number :\"))\n",
    "a=0\n",
    "b=1\n",
    "while(a<=num):\n",
    "    print(a)\n",
    "    a,b=a+b,a"
   ]
  },
  {
   "cell_type": "markdown",
   "id": "7cdde12c-2826-4650-8b43-ad84f7d929b9",
   "metadata": {},
   "source": [
    "Q9. Write a program that takes a list of integers as input and returns the product of all the numbers in the\n",
    "list using a while loop."
   ]
  },
  {
   "cell_type": "code",
   "execution_count": 16,
   "id": "c51c2826-fa65-44e0-8b2b-21182c56dc4b",
   "metadata": {},
   "outputs": [],
   "source": [
    "def product(list1):\n",
    "    x=0\n",
    "    num=1\n",
    "    while(x<len(list1)):\n",
    "        num=num*list1[x]\n",
    "        x=x+1\n",
    "    return num\n",
    "    \n",
    "        "
   ]
  },
  {
   "cell_type": "code",
   "execution_count": 17,
   "id": "9f3e3fdf-cae0-4e02-b1c0-52534529124f",
   "metadata": {},
   "outputs": [
    {
     "data": {
      "text/plain": [
       "60"
      ]
     },
     "execution_count": 17,
     "metadata": {},
     "output_type": "execute_result"
    }
   ],
   "source": [
    "product([3,4,5])"
   ]
  },
  {
   "cell_type": "markdown",
   "id": "eaec2226-865f-4ffd-9901-0c75aa520b40",
   "metadata": {},
   "source": [
    "Q10. Write a program that prompts the user to enter a positive integer and then prints out the factorial of\n",
    "that number using a while loop."
   ]
  },
  {
   "cell_type": "code",
   "execution_count": 18,
   "id": "c073d1e9-d831-4920-9a93-c74446131ca7",
   "metadata": {},
   "outputs": [
    {
     "name": "stdin",
     "output_type": "stream",
     "text": [
      "Enter the posiive integer: 5\n"
     ]
    },
    {
     "name": "stdout",
     "output_type": "stream",
     "text": [
      "120\n"
     ]
    }
   ],
   "source": [
    "num=int(input(\"Enter the posiive integer:\"))\n",
    "factorial=1\n",
    "while(num>1):\n",
    "    factorial=factorial*num\n",
    "    num=num-1\n",
    "print(factorial)"
   ]
  },
  {
   "cell_type": "code",
   "execution_count": null,
   "id": "50f5943a-ad8e-4430-9209-ff7cef986999",
   "metadata": {},
   "outputs": [],
   "source": []
  }
 ],
 "metadata": {
  "kernelspec": {
   "display_name": "Python 3 (ipykernel)",
   "language": "python",
   "name": "python3"
  },
  "language_info": {
   "codemirror_mode": {
    "name": "ipython",
    "version": 3
   },
   "file_extension": ".py",
   "mimetype": "text/x-python",
   "name": "python",
   "nbconvert_exporter": "python",
   "pygments_lexer": "ipython3",
   "version": "3.10.8"
  }
 },
 "nbformat": 4,
 "nbformat_minor": 5
}
