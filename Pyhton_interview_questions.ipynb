{
 "cells": [
  {
   "cell_type": "markdown",
   "id": "8a2c2efc",
   "metadata": {},
   "source": [
    "### 1. Minimum operations to make it k-periodic\n",
    "  ###   You are given a string s and integer k such that k divides length of s. Determine minimum operations to make it k-periodic by swapping k-length substrings.\n"
   ]
  },
  {
   "cell_type": "code",
   "execution_count": 7,
   "id": "af3aca47",
   "metadata": {},
   "outputs": [],
   "source": [
    "def min_k_Periodic(s:str,k:int)->int:\n",
    "    n=len(s)\n",
    "    chunks=[]\n",
    "    from collections import Counter\n",
    "    for i in range(0,n,k):\n",
    "        chunks.append(s[i:i+k])\n",
    "    chunks_freq=Counter(chunks)\n",
    "    max_freq=max(chunks_freq.values())\n",
    "    return len(chunks)-max_freq\n",
    "    "
   ]
  },
  {
   "cell_type": "code",
   "execution_count": 9,
   "id": "8c3d6dfb",
   "metadata": {},
   "outputs": [
    {
     "data": {
      "text/plain": [
       "3"
      ]
     },
     "execution_count": 9,
     "metadata": {},
     "output_type": "execute_result"
    }
   ],
   "source": [
    "min_k_Periodic('codencoode',2)"
   ]
  },
  {
   "cell_type": "markdown",
   "id": "cd2f1d31",
   "metadata": {},
   "source": [
    "### 2. Valid Parentheses Sequence\n",
    "### Given a string of parenthesis , nned to find out if it is valid closing"
   ]
  },
  {
   "cell_type": "code",
   "execution_count": 10,
   "id": "881b7ea8",
   "metadata": {},
   "outputs": [],
   "source": [
    "def valid_parenthesis(brackets:str)->bool:\n",
    "    bracket_dict={')':'(',']':'[','}':'{'}\n",
    "    check_brackets=[]\n",
    "    for bracket in brackets:\n",
    "        ## check for opening parenthesis\n",
    "        if bracket in bracket_dict.values():\n",
    "            check_brackets.append(bracket)\n",
    "        else:\n",
    "            ## Check closing parenthesis \n",
    "            if  not check_brackets or bracket_dict[bracket]!=check_brackets[-1]:\n",
    "                return False\n",
    "            else:\n",
    "                check_brackets.pop()\n",
    "            \n",
    "    return not check_brackets\n"
   ]
  },
  {
   "cell_type": "markdown",
   "id": "e4978471",
   "metadata": {},
   "source": [
    "### 3. Rotate an array of integers to the right by k steps.\n",
    "- Input: [1,2,3,4,5], k = 2 → Output: [4,5,1,2,3]"
   ]
  },
  {
   "cell_type": "code",
   "execution_count": 17,
   "id": "04dd043b",
   "metadata": {},
   "outputs": [],
   "source": [
    "def Rotate_array(arr:list,k:int)->list:\n",
    "    k=k%len(arr)\n",
    "    while(k>0):\n",
    "        last_element=arr.pop()\n",
    "        arr.insert(0,last_element)\n",
    "        k=k-1\n",
    "    return arr\n",
    "    "
   ]
  },
  {
   "cell_type": "code",
   "execution_count": 20,
   "id": "d50a5b89",
   "metadata": {},
   "outputs": [
    {
     "data": {
      "text/plain": [
       "[5, 1, 2, 3, 4]"
      ]
     },
     "execution_count": 20,
     "metadata": {},
     "output_type": "execute_result"
    }
   ],
   "source": [
    "Rotate_array([1,2,3,4,5], k = 6)"
   ]
  },
  {
   "cell_type": "code",
   "execution_count": 13,
   "id": "55c922b9",
   "metadata": {},
   "outputs": [],
   "source": [
    "a1=[1,2,3]"
   ]
  },
  {
   "cell_type": "markdown",
   "id": "5f14d124",
   "metadata": {},
   "source": [
    "### 4. First Unique Character in a String\n",
    "Return the index of the first non-repeating character in a string. If none, return -1.\n",
    "- Input: \"leetcode\" → Output: 0\n"
   ]
  },
  {
   "cell_type": "code",
   "execution_count": 17,
   "id": "ba9fa077",
   "metadata": {},
   "outputs": [],
   "source": [
    "def first_unique_character(s:str)->int:\n",
    "    from collections import Counter\n",
    "    freq_count=Counter(s)\n",
    "    print(freq_count)\n",
    "    for key in freq_count.keys():\n",
    "        if freq_count[key]==1:\n",
    "            return s.index(key)\n",
    "    return -1"
   ]
  },
  {
   "cell_type": "code",
   "execution_count": 27,
   "id": "d03a86ee",
   "metadata": {},
   "outputs": [
    {
     "name": "stdout",
     "output_type": "stream",
     "text": [
      "Counter({'t': 2, 'a': 1})\n",
      "0\n"
     ]
    }
   ],
   "source": [
    "res=first_unique_character('att')\n",
    "print(res)"
   ]
  },
  {
   "cell_type": "code",
   "execution_count": 23,
   "id": "c9b42d0d",
   "metadata": {},
   "outputs": [
    {
     "data": {
      "text/plain": [
       "Counter({'a': 1, 'b': 1, 'c': 1})"
      ]
     },
     "execution_count": 23,
     "metadata": {},
     "output_type": "execute_result"
    }
   ],
   "source": [
    "from collections import Counter\n",
    "Counter('abc')"
   ]
  },
  {
   "cell_type": "code",
   "execution_count": 18,
   "id": "07a9b82d",
   "metadata": {},
   "outputs": [
    {
     "name": "stdout",
     "output_type": "stream",
     "text": [
      "Counter({'a': 2, 'b': 2, 'c': 2, 't': 1})\n"
     ]
    },
    {
     "data": {
      "text/plain": [
       "6"
      ]
     },
     "execution_count": 18,
     "metadata": {},
     "output_type": "execute_result"
    }
   ],
   "source": [
    "first_unique_character('abcbcat')"
   ]
  },
  {
   "cell_type": "markdown",
   "id": "4ba8a7db",
   "metadata": {},
   "source": [
    "### 5. Find Missing Number in an Array\n",
    "- Given an array of size n-1 containing numbers from 1 to n, find the missing one."
   ]
  },
  {
   "cell_type": "code",
   "execution_count": 80,
   "id": "bcf7f550",
   "metadata": {},
   "outputs": [],
   "source": [
    "def Missing_number(arr:list)->int:\n",
    "    n=len(arr)+1\n",
    "    sum_res=n*(n+1)//2\n",
    "    actual_sum=sum(arr)\n",
    "    res=sum_res-actual_sum\n",
    "    return res"
   ]
  },
  {
   "cell_type": "code",
   "execution_count": 82,
   "id": "01e274ff",
   "metadata": {},
   "outputs": [
    {
     "data": {
      "text/plain": [
       "8"
      ]
     },
     "execution_count": 82,
     "metadata": {},
     "output_type": "execute_result"
    }
   ],
   "source": [
    "Missing_number([1,3,5,4,2,7,6,9])"
   ]
  },
  {
   "cell_type": "markdown",
   "id": "93804e9f",
   "metadata": {},
   "source": [
    "### 6. Group Anagrams- Important\n",
    "- **Group words that are anagrams of each other**.\n",
    "- Input: [\"eat\", \"tea\", \"tan\", \"ate\", \"nat\", \"bat\"]\n",
    "- Output: [[\"eat\",\"tea\",\"ate\"],[\"tan\",\"nat\"],[\"bat\"]]\n"
   ]
  },
  {
   "cell_type": "code",
   "execution_count": 42,
   "id": "91b4e107",
   "metadata": {},
   "outputs": [],
   "source": [
    "def Group_Anagrams(string_list:list)->list:\n",
    "    d1={}\n",
    "    ouput_array=[]\n",
    "    for word in string_list:\n",
    "        sort_word=''.join(sorted(word))\n",
    "        \n",
    "        if sort_word not in d1:\n",
    "            d1[sort_word]=[] # Initialise an empty list\n",
    "        d1[sort_word].append(word) # Append the word to the corresponding group in the dictionary\n",
    "        print(d1)\n",
    "    return list(d1.values())\n",
    "        \n",
    "        "
   ]
  },
  {
   "cell_type": "code",
   "execution_count": 48,
   "id": "1c2ac4e2",
   "metadata": {},
   "outputs": [
    {
     "name": "stdout",
     "output_type": "stream",
     "text": [
      "{'aet': ['eat']}\n",
      "{'aet': ['eat', 'tea']}\n",
      "{'aet': ['eat', 'tea'], 'ant': ['tan']}\n",
      "{'aet': ['eat', 'tea', 'ate'], 'ant': ['tan']}\n",
      "{'aet': ['eat', 'tea', 'ate'], 'ant': ['tan', 'nat']}\n",
      "{'aet': ['eat', 'tea', 'ate'], 'ant': ['tan', 'nat'], 'abt': ['bat']}\n"
     ]
    },
    {
     "data": {
      "text/plain": [
       "[['eat', 'tea', 'ate'], ['tan', 'nat'], ['bat']]"
      ]
     },
     "execution_count": 48,
     "metadata": {},
     "output_type": "execute_result"
    }
   ],
   "source": [
    "Group_Anagrams([\"eat\", \"tea\", \"tan\", \"ate\", \"nat\", \"bat\"])"
   ]
  },
  {
   "cell_type": "code",
   "execution_count": 44,
   "id": "3d0ef066",
   "metadata": {},
   "outputs": [],
   "source": [
    "s1=sorted(\"dfc\")"
   ]
  },
  {
   "cell_type": "code",
   "execution_count": 45,
   "id": "a7fe4f5e",
   "metadata": {},
   "outputs": [
    {
     "data": {
      "text/plain": [
       "'cdf'"
      ]
     },
     "execution_count": 45,
     "metadata": {},
     "output_type": "execute_result"
    }
   ],
   "source": [
    "''.join(s1)"
   ]
  },
  {
   "cell_type": "markdown",
   "id": "0fb54030",
   "metadata": {},
   "source": [
    "### 7. Maximum Sum Subarray (Kadane’s Algorithm)\n",
    "- Find the contiguous subarray with the maximum sum.\n",
    "- Input: [-2,1,-3,4,-1,2,1,-5,4] → Output: 6\n"
   ]
  },
  {
   "cell_type": "code",
   "execution_count": 28,
   "id": "bd271e7d",
   "metadata": {},
   "outputs": [],
   "source": [
    "def maximum_sum_array(arr:list)->int:\n",
    "    max_sum=arr[0]\n",
    "    current_sum=arr[0]\n",
    "    i=0\n",
    "    while(i<len(arr)-1):\n",
    "        \n",
    "        current_sum=max(arr[i+1],current_sum+arr[i+1])\n",
    "        max_sum=max(current_sum,max_sum)\n",
    "        i=i+1\n",
    "    return max_sum\n",
    "        "
   ]
  },
  {
   "cell_type": "code",
   "execution_count": 84,
   "id": "563fc71a",
   "metadata": {},
   "outputs": [],
   "source": [
    "def max_sum_subarray(nums:list):\n",
    "    curr_sum=nums[0]\n",
    "    max_sum=nums[0]\n",
    "    for num in nums:\n",
    "        curr_sum=max(num,curr_sum+num)\n",
    "        max_sum=max(max_sum,curr_sum)\n",
    "    return max_sum"
   ]
  },
  {
   "cell_type": "code",
   "execution_count": 85,
   "id": "0baa3d88",
   "metadata": {},
   "outputs": [
    {
     "data": {
      "text/plain": [
       "6"
      ]
     },
     "execution_count": 85,
     "metadata": {},
     "output_type": "execute_result"
    }
   ],
   "source": [
    "maximum_sum_array([-2,1,-3,4,-1,2,1,-5,4])"
   ]
  },
  {
   "cell_type": "code",
   "execution_count": 86,
   "id": "c7310668",
   "metadata": {},
   "outputs": [
    {
     "data": {
      "text/plain": [
       "11"
      ]
     },
     "execution_count": 86,
     "metadata": {},
     "output_type": "execute_result"
    }
   ],
   "source": [
    "max_sum_subarray([-1,2,3,-5,6,-2,7])"
   ]
  },
  {
   "cell_type": "markdown",
   "id": "51c7aae1",
   "metadata": {},
   "source": [
    "### 8. Merge Intervals\n",
    "- Given a list of intervals, merge all overlapping intervals.\n",
    "- Input: [[1,3],[2,6],[8,10]] → Output: [[1,6],[8,10]]\n",
    "-  Input: [[1,7],[2,6],[8,10]] → Output: [[1,7],[8,10]]\n"
   ]
  },
  {
   "cell_type": "code",
   "execution_count": 57,
   "id": "6b1a119a",
   "metadata": {},
   "outputs": [],
   "source": [
    "from typing import List"
   ]
  },
  {
   "cell_type": "code",
   "execution_count": 60,
   "id": "63d664cb",
   "metadata": {},
   "outputs": [],
   "source": [
    "def merge( intervals: List[List[int]]) -> List[List[int]]:\n",
    "        intervals.sort(key=lambda x:x[0])\n",
    "        merged=[]\n",
    "\n",
    "        for interval in intervals:\n",
    "            if not merged or merged[-1][1]<interval[0]:\n",
    "                merged.append(interval)\n",
    "            else:\n",
    "                merged[-1][1]=max(merged[-1][1],interval[1])\n",
    "        return merged"
   ]
  },
  {
   "cell_type": "code",
   "execution_count": 61,
   "id": "f714b943",
   "metadata": {},
   "outputs": [
    {
     "data": {
      "text/plain": [
       "[[1, 7], [8, 10]]"
      ]
     },
     "execution_count": 61,
     "metadata": {},
     "output_type": "execute_result"
    }
   ],
   "source": [
    "merge(intervals=[[1,7],[2,6],[8,10]])"
   ]
  },
  {
   "cell_type": "markdown",
   "id": "199247f8",
   "metadata": {},
   "source": [
    "### 9.  Greatest Common Divisor of Strings\n",
    "- **Given two strings str1 and str2, return the largest string x such that x divides both str1 and str2**.\n",
    "- Input: str1 = \"ABCABC\", str2 = \"ABC\"\n",
    "- Output: \"ABC\""
   ]
  },
  {
   "cell_type": "code",
   "execution_count": 38,
   "id": "191f519c",
   "metadata": {},
   "outputs": [],
   "source": [
    "## Calculate GCD of Numbers first\n",
    "def gcd_numbers(a,b):\n",
    "    while(b!=0):\n",
    "        a,b=b,a%b\n",
    "    return a"
   ]
  },
  {
   "cell_type": "code",
   "execution_count": 87,
   "id": "dd7cb2f6",
   "metadata": {},
   "outputs": [],
   "source": [
    "\n",
    "def gcd_strings(s1:str,s2:str):\n",
    "    # Check if the s1+s2 eqauls s2+s1 meaninng \"abab\"+'ab' should be 'ab'+\"abab\" or \"abab\"+'ba'!='ba'+'abab'\n",
    "    \n",
    "    if (s1+s2)!=(s2+s1):\n",
    "        \n",
    "        return \"\"\n",
    "    ##  Calculate GCD of Numbers first\n",
    "    def gcd_of_numbers(a,b):\n",
    "        while(b!=0):\n",
    "            a,b=b,a%b\n",
    "        return a\n",
    "    k=gcd_of_numbers(len(s1),len(s2))\n",
    "    return s1[:k]\n",
    "    "
   ]
  },
  {
   "cell_type": "code",
   "execution_count": 88,
   "id": "14647d28",
   "metadata": {},
   "outputs": [
    {
     "data": {
      "text/plain": [
       "''"
      ]
     },
     "execution_count": 88,
     "metadata": {},
     "output_type": "execute_result"
    }
   ],
   "source": [
    "gcd_strings(\"LEET\",\"CODE\")"
   ]
  },
  {
   "cell_type": "code",
   "execution_count": 90,
   "id": "c99b3cd3",
   "metadata": {},
   "outputs": [
    {
     "data": {
      "text/plain": [
       "'AB'"
      ]
     },
     "execution_count": 90,
     "metadata": {},
     "output_type": "execute_result"
    }
   ],
   "source": [
    "gcd_strings(\"ABABAB\",\"ABAB\")"
   ]
  },
  {
   "cell_type": "markdown",
   "id": "d6ee6c3b",
   "metadata": {},
   "source": [
    "### 10. Longest Substring Without Repeating Characters\n",
    "- Return the length of the longest substring without repeating characters.\n",
    "- Input: \"abcabcbb\" → Output: 3\n"
   ]
  },
  {
   "cell_type": "code",
   "execution_count": 74,
   "id": "3941589b",
   "metadata": {},
   "outputs": [],
   "source": [
    "def length_of_longest_substring(s: str) -> int:\n",
    "    char_set = set()  # To track unique characters\n",
    "    start = 0         # Left pointer\n",
    "    max_length = 0    # Store the maximum length\n",
    "    \n",
    "    for end in range(len(s)):\n",
    "        # If the character is a duplicate, shrink the window\n",
    "        while s[end] in char_set:\n",
    "            char_set.remove(s[start])\n",
    "            start += 1\n",
    "            print(F\"Inside Loop start:{start} and Charset{char_set}\")\n",
    "        \n",
    "        # Add the current character to the set and calculate the length\n",
    "        char_set.add(s[end])\n",
    "        print(f\"value of start is {start} *** End :{end}\")\n",
    "        print(f\"Charset:{char_set}\")\n",
    "        max_length = max(max_length, end - start + 1)\n",
    "    \n",
    "    return max_length"
   ]
  },
  {
   "cell_type": "code",
   "execution_count": 77,
   "id": "6d5fc49d",
   "metadata": {},
   "outputs": [
    {
     "name": "stdout",
     "output_type": "stream",
     "text": [
      "value of start is 0 *** End :0\n",
      "Charset:{'a'}\n",
      "value of start is 0 *** End :1\n",
      "Charset:{'b', 'a'}\n",
      "value of start is 0 *** End :2\n",
      "Charset:{'b', 'a', 'c'}\n",
      "Inside Loop start:1 and Charset{'b', 'c'}\n",
      "Inside Loop start:2 and Charset{'c'}\n",
      "value of start is 2 *** End :3\n",
      "Charset:{'b', 'c'}\n",
      "Inside Loop start:3 and Charset{'b'}\n",
      "value of start is 3 *** End :4\n",
      "Charset:{'b', 'c'}\n",
      "value of start is 3 *** End :5\n",
      "Charset:{'d', 'b', 'c'}\n",
      "value of start is 3 *** End :6\n",
      "Charset:{'d', 'b', 'a', 'c'}\n",
      "Inside Loop start:4 and Charset{'d', 'a', 'c'}\n",
      "value of start is 4 *** End :7\n",
      "Charset:{'d', 'a', 'b', 'c'}\n",
      "Inside Loop start:5 and Charset{'d', 'a', 'b'}\n",
      "Inside Loop start:6 and Charset{'a', 'b'}\n",
      "Inside Loop start:7 and Charset{'b'}\n",
      "Inside Loop start:8 and Charsetset()\n",
      "value of start is 8 *** End :8\n",
      "Charset:{'b'}\n"
     ]
    },
    {
     "data": {
      "text/plain": [
       "4"
      ]
     },
     "execution_count": 77,
     "metadata": {},
     "output_type": "execute_result"
    }
   ],
   "source": [
    "length_of_longest_substring('abcbcdabb')"
   ]
  },
  {
   "cell_type": "code",
   "execution_count": 17,
   "id": "3f1f1388",
   "metadata": {},
   "outputs": [],
   "source": [
    "### \n",
    "def longest_substring_2(s1:str)->int:\n",
    "    unique_arr=[]\n",
    "    max_length=0\n",
    "    for char in s1:\n",
    "        if char not in unique_arr:\n",
    "            unique_arr.append(char)\n",
    "            max_length=max(max_length,len(unique_arr))\n",
    "            print(f\"unique array is {unique_arr} ** length is {len(unique_arr)}\")\n",
    "        else:\n",
    "            idx=unique_arr.index(char)\n",
    "            unique_arr=unique_arr[idx+1:]\n",
    "            unique_arr.append(char)\n",
    "            print(f\"Else block Unique arr :{unique_arr}\")\n",
    "    return max_length"
   ]
  },
  {
   "cell_type": "code",
   "execution_count": 18,
   "id": "2038e2c6",
   "metadata": {},
   "outputs": [
    {
     "name": "stdout",
     "output_type": "stream",
     "text": [
      "unique array is ['a'] ** length is 1\n",
      "unique array is ['a', 'b'] ** length is 2\n",
      "unique array is ['a', 'b', 'c'] ** length is 3\n",
      "Else block Unique arr :['c', 'b']\n",
      "Else block Unique arr :['b', 'c']\n",
      "unique array is ['b', 'c', 'd'] ** length is 3\n",
      "unique array is ['b', 'c', 'd', 'a'] ** length is 4\n",
      "Else block Unique arr :['c', 'd', 'a', 'b']\n",
      "Else block Unique arr :['b']\n"
     ]
    },
    {
     "data": {
      "text/plain": [
       "4"
      ]
     },
     "execution_count": 18,
     "metadata": {},
     "output_type": "execute_result"
    }
   ],
   "source": [
    "longest_substring_2('abcbcdabb')"
   ]
  },
  {
   "cell_type": "code",
   "execution_count": 5,
   "id": "2d2ff2e9",
   "metadata": {},
   "outputs": [],
   "source": [
    "s1=list('abcbcdabb')"
   ]
  },
  {
   "cell_type": "code",
   "execution_count": 8,
   "id": "accad0aa",
   "metadata": {},
   "outputs": [
    {
     "data": {
      "text/plain": [
       "['c', 'b', 'c', 'd', 'a', 'b', 'b']"
      ]
     },
     "execution_count": 8,
     "metadata": {},
     "output_type": "execute_result"
    }
   ],
   "source": [
    "s1[2:]"
   ]
  },
  {
   "cell_type": "markdown",
   "id": "9c0f6375",
   "metadata": {},
   "source": [
    "### 11.  Min Cost Climbing Stairs\n",
    "- You are given an integer array cost where cost[i] is the cost of ith step on a staircase. Once you pay the cost, you can either climb one or two steps.\n",
    "- Input: cost = [1,100,1,1,1,100,1,1,100,1] Output: 6"
   ]
  },
  {
   "cell_type": "code",
   "execution_count": 19,
   "id": "90a9d281",
   "metadata": {},
   "outputs": [],
   "source": [
    "from typing import List\n",
    "def minCostClimbingStairs( cost: List[int]) -> int:\n",
    "        n=len(cost)\n",
    "        \n",
    "        new_arr=[]\n",
    "        new_arr.append(cost[0])\n",
    "        new_arr.append(cost[1])\n",
    "\n",
    "        for i in range(2,n):\n",
    "            res=cost[i]+min(new_arr[i-1],new_arr[i-2])\n",
    "            new_arr.append(res)\n",
    "        \n",
    "        return min(new_arr[n-1],new_arr[n-2])"
   ]
  },
  {
   "cell_type": "code",
   "execution_count": 20,
   "id": "07aab5ec",
   "metadata": {},
   "outputs": [
    {
     "data": {
      "text/plain": [
       "20"
      ]
     },
     "execution_count": 20,
     "metadata": {},
     "output_type": "execute_result"
    }
   ],
   "source": [
    "minCostClimbingStairs([10,20,40])"
   ]
  },
  {
   "cell_type": "code",
   "execution_count": 22,
   "id": "8e9eb1eb",
   "metadata": {},
   "outputs": [
    {
     "data": {
      "text/plain": [
       "6"
      ]
     },
     "execution_count": 22,
     "metadata": {},
     "output_type": "execute_result"
    }
   ],
   "source": [
    "minCostClimbingStairs([1,1,100,1,1,100,1,1,100,1])"
   ]
  },
  {
   "cell_type": "code",
   "execution_count": null,
   "id": "b506aacb",
   "metadata": {},
   "outputs": [],
   "source": []
  }
 ],
 "metadata": {
  "kernelspec": {
   "display_name": "Python 3 (ipykernel)",
   "language": "python",
   "name": "python3"
  },
  "language_info": {
   "codemirror_mode": {
    "name": "ipython",
    "version": 3
   },
   "file_extension": ".py",
   "mimetype": "text/x-python",
   "name": "python",
   "nbconvert_exporter": "python",
   "pygments_lexer": "ipython3",
   "version": "3.9.18"
  }
 },
 "nbformat": 4,
 "nbformat_minor": 5
}
