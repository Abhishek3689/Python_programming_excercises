{
 "cells": [
  {
   "cell_type": "markdown",
   "id": "88d697e8",
   "metadata": {},
   "source": [
    "## Find the possible subsequences"
   ]
  },
  {
   "cell_type": "code",
   "execution_count": 11,
   "id": "f1b7d103",
   "metadata": {},
   "outputs": [],
   "source": [
    "def find_sequences(arr:list,n,seq=[],i=0):\n",
    "    if i>=n:\n",
    "        print(seq)\n",
    "        return \n",
    "    find_sequences(arr,n,seq,i+1)\n",
    "    seq.append(arr[i])\n",
    "    find_sequences(arr,n,seq,i+1)\n",
    "    seq.remove(arr[i])\n",
    "    "
   ]
  },
  {
   "cell_type": "code",
   "execution_count": 13,
   "id": "85ecc52f",
   "metadata": {},
   "outputs": [
    {
     "name": "stdout",
     "output_type": "stream",
     "text": [
      "[]\n",
      "[4]\n",
      "[2]\n",
      "[2, 4]\n",
      "[1]\n",
      "[1, 4]\n",
      "[1, 2]\n",
      "[1, 2, 4]\n",
      "[3]\n",
      "[3, 4]\n",
      "[3, 2]\n",
      "[3, 2, 4]\n",
      "[3, 1]\n",
      "[3, 1, 4]\n",
      "[3, 1, 2]\n",
      "[3, 1, 2, 4]\n"
     ]
    }
   ],
   "source": [
    "find_sequences([3,1,2,4],4)"
   ]
  },
  {
   "cell_type": "markdown",
   "id": "c60074b6",
   "metadata": {},
   "source": [
    "## find subsequences equals k"
   ]
  },
  {
   "cell_type": "code",
   "execution_count": 1,
   "id": "efd7c45b",
   "metadata": {},
   "outputs": [],
   "source": [
    "def subsequence_sum_k(arr:list,n,k,seq:list=[],i=0,s=0):\n",
    "    if i>=n:\n",
    "        if s==k:\n",
    "            print(f\"sum:{s}\")\n",
    "            print(seq)\n",
    "        return\n",
    "    \n",
    "#     s=s+arr[i]\n",
    "    subsequence_sum_k(arr,n,k,seq,i+1,s+arr[i])\n",
    "    seq.append(arr[i])\n",
    "    subsequence_sum_k(arr,n,k,seq,i+1,s)\n",
    "    seq.remove(arr[i])\n",
    "    "
   ]
  },
  {
   "cell_type": "code",
   "execution_count": 2,
   "id": "ea9f2da8",
   "metadata": {},
   "outputs": [
    {
     "name": "stdout",
     "output_type": "stream",
     "text": [
      "sum:5\n",
      "[1, 4]\n",
      "sum:5\n",
      "[3, 2]\n"
     ]
    }
   ],
   "source": [
    "subsequence_sum_k([3,1,2,4],4,5)"
   ]
  },
  {
   "cell_type": "code",
   "execution_count": 25,
   "id": "147de7be",
   "metadata": {},
   "outputs": [],
   "source": [
    "def subsequence_sum_2(arr:list,k,seq=None,i=0,s=0):\n",
    "    if seq is None:\n",
    "        seq=[]\n",
    "    n=len(arr)\n",
    "    if i>=n:\n",
    "        if s==k:\n",
    "#             print(f\"sum:{s}\")\n",
    "            print(seq)\n",
    "        return\n",
    "    \n",
    "    s=s+arr[i]\n",
    "    seq.append(arr[i])\n",
    "    subsequence_sum_2(arr,k,seq,i+1,s)\n",
    "   \n",
    "    s=s-arr[i]\n",
    "    seq.remove(arr[i])\n",
    "    subsequence_sum_2(arr,k,seq,i+1,s)\n",
    "    "
   ]
  },
  {
   "cell_type": "code",
   "execution_count": 26,
   "id": "8eb87eb4",
   "metadata": {},
   "outputs": [
    {
     "name": "stdout",
     "output_type": "stream",
     "text": [
      "[2, 1]\n",
      "[1, 1, 1]\n",
      "[1, 1, 1]\n",
      "[1, 1, 1]\n",
      "[1, 1, 1]\n",
      "[1, 1, 1]\n",
      "[1, 1, 1]\n",
      "[2, 1]\n",
      "[2, 1]\n",
      "[2, 1]\n",
      "[2, 1]\n",
      "[1, 1, 1]\n",
      "[1, 1, 1]\n",
      "[1, 1, 1]\n",
      "[3]\n",
      "[1, 1, 1]\n"
     ]
    }
   ],
   "source": [
    "subsequence_sum_2([1,2,1,3,1,1,1],3)"
   ]
  },
  {
   "cell_type": "markdown",
   "id": "70b3274e",
   "metadata": {},
   "source": [
    "## count sequene equals sum k"
   ]
  },
  {
   "cell_type": "code",
   "execution_count": 37,
   "id": "7fafdc53",
   "metadata": {},
   "outputs": [],
   "source": [
    "def count_seq_sum_k(arr:list,n,k,i=0,s=0):\n",
    "    if i>=n:\n",
    "        if s==k:\n",
    "            return 1\n",
    "        return 0\n",
    "    s=s+arr[i]\n",
    "    left=count_seq_sum_k(arr,n,k,i+1,s)\n",
    "    s=s-arr[i]\n",
    "    right=count_seq_sum_k(arr,n,k,i+1,s)\n",
    "    return left+right"
   ]
  },
  {
   "cell_type": "code",
   "execution_count": 42,
   "id": "4c0d4bc0",
   "metadata": {},
   "outputs": [
    {
     "data": {
      "text/plain": [
       "3"
      ]
     },
     "execution_count": 42,
     "metadata": {},
     "output_type": "execute_result"
    }
   ],
   "source": [
    "count_seq_sum_k([1,2,1,3],4,3)"
   ]
  },
  {
   "cell_type": "code",
   "execution_count": 49,
   "id": "d12ac882",
   "metadata": {},
   "outputs": [],
   "source": [
    "def all_possible_string(s:str,n,i=0,pattern=''):\n",
    "    if i>=n:\n",
    "        print(pattern)\n",
    "        return\n",
    "    \n",
    "    all_possible_string(s,n,i+1,pattern)\n",
    "    pattern=pattern+s[i]\n",
    "    all_possible_string(s,n,i+1,pattern)\n",
    "    pattern=pattern[:i]"
   ]
  },
  {
   "cell_type": "code",
   "execution_count": 52,
   "id": "7d1e4103",
   "metadata": {},
   "outputs": [
    {
     "name": "stdout",
     "output_type": "stream",
     "text": [
      "\n",
      "h\n",
      "b\n",
      "bh\n",
      "a\n",
      "ah\n",
      "ab\n",
      "abh\n"
     ]
    }
   ],
   "source": [
    "all_possible_string('abh',3)"
   ]
  },
  {
   "cell_type": "markdown",
   "id": "2c2a9d59",
   "metadata": {},
   "source": [
    "##  Find All permuations"
   ]
  },
  {
   "cell_type": "markdown",
   "id": "30c44309",
   "metadata": {},
   "source": [
    "* Given an array nums of distinct integers, return all the possible permutations. You can return the answer in any order.\n",
    "- Input: nums = [1,2,3]\n",
    "- Output: [[1,2,3],[1,3,2],[2,1,3],[2,3,1],[3,1,2],[3,2,1]]"
   ]
  },
  {
   "cell_type": "code",
   "execution_count": 24,
   "id": "67183d52",
   "metadata": {},
   "outputs": [],
   "source": [
    "def all_permutation(arr,n,i=0):\n",
    "    if i>=n:\n",
    "        print(arr)\n",
    "        return \n",
    "    for j in range(i,n):\n",
    "        arr[i],arr[j]=arr[j],arr[i]\n",
    "        all_permutation(arr,n,i+1)\n",
    "        arr[i],arr[j]=arr[i],arr[j]\n",
    "        \n",
    "#     seq.append(arr[i])\n",
    "#     all_permutation(arr,n,res,seq,i+1)\n",
    "#     seq.remove(arr[i])\n",
    "#     all_permutation(arr,n,res,seq,i+1)\n",
    "#     return res\n",
    "    "
   ]
  },
  {
   "cell_type": "code",
   "execution_count": 25,
   "id": "378d6609",
   "metadata": {},
   "outputs": [
    {
     "name": "stdout",
     "output_type": "stream",
     "text": [
      "[1, 2, 3]\n",
      "[1, 3, 2]\n",
      "[3, 1, 2]\n",
      "[3, 2, 1]\n",
      "[1, 2, 3]\n",
      "[1, 3, 2]\n"
     ]
    }
   ],
   "source": [
    "all_permutation([1,2,3],3)"
   ]
  },
  {
   "cell_type": "code",
   "execution_count": 3,
   "id": "11e37a7c",
   "metadata": {},
   "outputs": [],
   "source": [
    "def all_permutation_list(arr,n,seq=None,i=0):\n",
    "    if seq is None:\n",
    "        seq=[]\n",
    "    if i>=n:\n",
    "        seq.append(arr.copy())\n",
    "        return \n",
    "    for j in range(i,n):\n",
    "        arr[i],arr[j]=arr[j],arr[i]\n",
    "        all_permutation(arr,n,seq,i+1)\n",
    "        arr[i],arr[j]=arr[i],arr[j]\n",
    "    return seq"
   ]
  },
  {
   "cell_type": "code",
   "execution_count": 4,
   "id": "d8604931",
   "metadata": {},
   "outputs": [
    {
     "data": {
      "text/plain": [
       "[[1, 2, 3], [1, 3, 2], [3, 1, 2], [3, 2, 1], [1, 2, 3], [1, 3, 2]]"
      ]
     },
     "execution_count": 4,
     "metadata": {},
     "output_type": "execute_result"
    }
   ],
   "source": [
    "all_permutation_list([1,2,3],3)"
   ]
  },
  {
   "cell_type": "markdown",
   "id": "1ce49c11",
   "metadata": {},
   "source": [
    "## Permutaion Of String"
   ]
  },
  {
   "cell_type": "code",
   "execution_count": 27,
   "id": "0b187e18",
   "metadata": {},
   "outputs": [],
   "source": [
    "def string_permutation(s1:str,chosen=''):\n",
    "    if len(s1)==0:\n",
    "        print(chosen)\n",
    "    for i in range(len(s1)):\n",
    "        c=s1[i]\n",
    "        left_s=s1[:i]+s1[i+1:]\n",
    "        string_permutation(left_s,chosen+c)"
   ]
  },
  {
   "cell_type": "code",
   "execution_count": 28,
   "id": "17ded1a5",
   "metadata": {},
   "outputs": [
    {
     "name": "stdout",
     "output_type": "stream",
     "text": [
      "ABC\n",
      "ACB\n",
      "BAC\n",
      "BCA\n",
      "CAB\n",
      "CBA\n"
     ]
    }
   ],
   "source": [
    "string_permutation('ABC')"
   ]
  },
  {
   "cell_type": "code",
   "execution_count": null,
   "id": "f1c2f900",
   "metadata": {},
   "outputs": [],
   "source": []
  }
 ],
 "metadata": {
  "kernelspec": {
   "display_name": "Python 3 (ipykernel)",
   "language": "python",
   "name": "python3"
  },
  "language_info": {
   "codemirror_mode": {
    "name": "ipython",
    "version": 3
   },
   "file_extension": ".py",
   "mimetype": "text/x-python",
   "name": "python",
   "nbconvert_exporter": "python",
   "pygments_lexer": "ipython3",
   "version": "3.9.18"
  }
 },
 "nbformat": 4,
 "nbformat_minor": 5
}
