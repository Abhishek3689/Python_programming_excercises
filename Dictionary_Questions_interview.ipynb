{
 "cells": [
  {
   "cell_type": "markdown",
   "id": "2704ea99",
   "metadata": {},
   "source": [
    "## Count word frequency in a string"
   ]
  },
  {
   "cell_type": "code",
   "execution_count": 94,
   "id": "c8f9e307",
   "metadata": {},
   "outputs": [],
   "source": [
    "sent=\"cat and the hat and mising hat and\""
   ]
  },
  {
   "cell_type": "code",
   "execution_count": 95,
   "id": "c04326bf",
   "metadata": {},
   "outputs": [],
   "source": [
    "d1={}\n",
    "s1=''\n",
    "for char in sent:\n",
    "    if char==' ':\n",
    "        if s1:\n",
    "            d1[s1]=d1.get(s1,0)+1\n",
    "            s1=''\n",
    "    else:\n",
    "        s1=s1+char\n",
    "if s1:\n",
    "    d1[s1]=d1.get(s1,0)+1\n",
    "        "
   ]
  },
  {
   "cell_type": "code",
   "execution_count": 96,
   "id": "f458c6fc",
   "metadata": {},
   "outputs": [
    {
     "data": {
      "text/plain": [
       "{'cat': 1, 'and': 3, 'the': 1, 'hat': 2, 'mising': 1}"
      ]
     },
     "execution_count": 96,
     "metadata": {},
     "output_type": "execute_result"
    }
   ],
   "source": [
    "d1"
   ]
  },
  {
   "cell_type": "markdown",
   "id": "a726c5ac",
   "metadata": {},
   "source": [
    "## Find the first non-repeating character"
   ]
  },
  {
   "cell_type": "code",
   "execution_count": 9,
   "id": "dfaa5f95",
   "metadata": {},
   "outputs": [],
   "source": [
    "Input: \"swiss\""
   ]
  },
  {
   "cell_type": "code",
   "execution_count": 14,
   "id": "6a14c02e",
   "metadata": {},
   "outputs": [],
   "source": [
    "def count_non_repeating(s1:str):\n",
    "    d1={}\n",
    "    for char in s1:\n",
    "        if char not in d1:\n",
    "            d1[char]=1\n",
    "        else:\n",
    "            d1[char]=d1[char]+1\n",
    "    print(d1)\n",
    "    for key,value in d1.items():\n",
    "        if value==1:\n",
    "            return key\n",
    "    return -1"
   ]
  },
  {
   "cell_type": "code",
   "execution_count": 17,
   "id": "97278602",
   "metadata": {},
   "outputs": [
    {
     "name": "stdout",
     "output_type": "stream",
     "text": [
      "{'w': 2, 'h': 2, 'e': 2, 'r': 2, 't': 1, 'i': 1}\n"
     ]
    },
    {
     "data": {
      "text/plain": [
       "'t'"
      ]
     },
     "execution_count": 17,
     "metadata": {},
     "output_type": "execute_result"
    }
   ],
   "source": [
    "count_non_repeating(\"wherewthir\")"
   ]
  },
  {
   "cell_type": "markdown",
   "id": "93c7b111",
   "metadata": {},
   "source": [
    "## Check if two strings are anagrams"
   ]
  },
  {
   "cell_type": "markdown",
   "id": "67a94bbc",
   "metadata": {},
   "source": [
    "- Input: \"listen\", \"silent\""
   ]
  },
  {
   "cell_type": "code",
   "execution_count": 19,
   "id": "e7aeb95d",
   "metadata": {},
   "outputs": [],
   "source": [
    "def check_aanagrams(s1:str,s2:str):\n",
    "    if len(s1)!=len(s2):\n",
    "        return False\n",
    "    sorted_1=sorted(s1)\n",
    "    sorted_2=sorted(s2)\n",
    "    return sorted_1==sorted_2\n",
    "    "
   ]
  },
  {
   "cell_type": "code",
   "execution_count": 24,
   "id": "71a991ea",
   "metadata": {},
   "outputs": [
    {
     "data": {
      "text/plain": [
       "True"
      ]
     },
     "execution_count": 24,
     "metadata": {},
     "output_type": "execute_result"
    }
   ],
   "source": [
    "check_aanagrams(\"listen\", \"silent\")"
   ]
  },
  {
   "cell_type": "code",
   "execution_count": 25,
   "id": "1106fc74",
   "metadata": {},
   "outputs": [],
   "source": [
    "def check_aanagrams_2(s1:str,s2:str):\n",
    "    if len(s1)!=len(s2):\n",
    "        return False\n",
    "    d1={}\n",
    "    d2={}\n",
    "    for char in s1:\n",
    "        d1[char]=d1.get(char,0)+1\n",
    "        \n",
    "    for char in s2:\n",
    "        d2[char]=d2.get(char,0)+1\n",
    "        \n",
    "    return d1==d2"
   ]
  },
  {
   "cell_type": "code",
   "execution_count": 32,
   "id": "5f32aa3c",
   "metadata": {},
   "outputs": [
    {
     "data": {
      "text/plain": [
       "True"
      ]
     },
     "execution_count": 32,
     "metadata": {},
     "output_type": "execute_result"
    }
   ],
   "source": [
    "check_aanagrams_2(\"will\", \"lliw\")"
   ]
  },
  {
   "cell_type": "markdown",
   "id": "f3f2cfe9",
   "metadata": {},
   "source": [
    "## Group words that are anagrams"
   ]
  },
  {
   "cell_type": "markdown",
   "id": "2cad7c77",
   "metadata": {},
   "source": [
    "- Group words from a list into lists of anagrams.\n",
    "- Input: [\"bat\", \"tab\", \"eat\", \"tea\", \"tan\", \"nat\"]\n",
    "- Output: [[\"bat\", \"tab\"], [\"eat\", \"tea\"], [\"tan\", \"nat\"]]"
   ]
  },
  {
   "cell_type": "code",
   "execution_count": 44,
   "id": "50c90309",
   "metadata": {},
   "outputs": [],
   "source": [
    "def group_anagrmas(list_arr:list):\n",
    "    d1={}\n",
    "    for word in list_arr:\n",
    "        sorted_word=sorted(word)\n",
    "        sorted_word_str=''.join(sorted_word)\n",
    "        if sorted_word_str not in d1:\n",
    "            d1[sorted_word_str]=[word]\n",
    "        else:\n",
    "            d1[sorted_word_str].append(word)\n",
    "    return list(d1.values())"
   ]
  },
  {
   "cell_type": "code",
   "execution_count": 45,
   "id": "6b04a2b3",
   "metadata": {},
   "outputs": [
    {
     "data": {
      "text/plain": [
       "[['bat', 'tab'], ['eat', 'tea'], ['tan', 'nat']]"
      ]
     },
     "execution_count": 45,
     "metadata": {},
     "output_type": "execute_result"
    }
   ],
   "source": [
    "group_anagrmas([\"bat\",\"tab\",\"eat\",\"tea\",\"tan\",\"nat\"])"
   ]
  },
  {
   "cell_type": "code",
   "execution_count": 36,
   "id": "6a65aaa8",
   "metadata": {},
   "outputs": [
    {
     "data": {
      "text/plain": [
       "{'the': 2, 'cat': 1, 'and': 1}"
      ]
     },
     "execution_count": 36,
     "metadata": {},
     "output_type": "execute_result"
    }
   ],
   "source": [
    "d1"
   ]
  },
  {
   "cell_type": "markdown",
   "id": "8c6cbced",
   "metadata": {},
   "source": [
    "## Find the most frequent element in a list\n",
    "## Import step in 2nd approach\n",
    "\n",
    "- Given a list, return the element that appears most often.\n",
    "- Input: [1, 3, 2, 1, 4, 1, 3]\n",
    "- Output: 1"
   ]
  },
  {
   "cell_type": "code",
   "execution_count": 46,
   "id": "c0ced5c1",
   "metadata": {},
   "outputs": [],
   "source": [
    "def most_frequent(arr:list):\n",
    "    max_cnt=0\n",
    "    n=arr[0]\n",
    "    for num in arr:\n",
    "        cnt=arr.count(num)\n",
    "        if cnt>max_cnt:\n",
    "            max_cnt=cnt\n",
    "            n=num\n",
    "    return n"
   ]
  },
  {
   "cell_type": "code",
   "execution_count": 48,
   "id": "1456e3a6",
   "metadata": {},
   "outputs": [
    {
     "data": {
      "text/plain": [
       "3"
      ]
     },
     "execution_count": 48,
     "metadata": {},
     "output_type": "execute_result"
    }
   ],
   "source": [
    "most_frequent([1, 3, 2, 3, 4, 1, 3])"
   ]
  },
  {
   "cell_type": "code",
   "execution_count": 59,
   "id": "026db800",
   "metadata": {},
   "outputs": [],
   "source": [
    "from typing import List,Union"
   ]
  },
  {
   "cell_type": "code",
   "execution_count": 67,
   "id": "1845673f",
   "metadata": {},
   "outputs": [],
   "source": [
    "def most_frequent_2(arr:List[Union[int,float,str]]):\n",
    "    d1={}\n",
    "    max_val=0\n",
    "    \n",
    "    for num in arr:\n",
    "        d1[num]=d1.get(num,0)+1\n",
    "    # Step 2: Find the element with maximum frequency\n",
    "    most_frequent_element = max(d1, key=d1.get)\n",
    "    return most_frequent_element"
   ]
  },
  {
   "cell_type": "code",
   "execution_count": 69,
   "id": "bb46ee24",
   "metadata": {},
   "outputs": [
    {
     "data": {
      "text/plain": [
       "3"
      ]
     },
     "execution_count": 69,
     "metadata": {},
     "output_type": "execute_result"
    }
   ],
   "source": [
    "most_frequent_2([1, 3, 2, 3, 4, 1, 3])"
   ]
  },
  {
   "cell_type": "markdown",
   "id": "abd6f814",
   "metadata": {},
   "source": [
    "## Two Sum Problem (Dictionary version)\n",
    "- Find two numbers in an array that sum to a target using a dict for O(n) lookup.\n",
    "- Input: nums = [2, 7, 11, 15], target = 9\n",
    "- Output: [0, 1] (indices)"
   ]
  },
  {
   "cell_type": "code",
   "execution_count": 101,
   "id": "5815be64",
   "metadata": {},
   "outputs": [],
   "source": [
    "def target_num_sum(arr:List[int],target:int):\n",
    "    d1={}\n",
    "    for i,num in enumerate(arr):\n",
    "        val=target-num\n",
    "        if val not in d1:\n",
    "            d1[num]=i\n",
    "        else:\n",
    "            return [d1[val],i]\n",
    "    return -1"
   ]
  },
  {
   "cell_type": "code",
   "execution_count": 107,
   "id": "44279b5d",
   "metadata": {},
   "outputs": [
    {
     "data": {
      "text/plain": [
       "-1"
      ]
     },
     "execution_count": 107,
     "metadata": {},
     "output_type": "execute_result"
    }
   ],
   "source": [
    "target_num_sum([2, 7, 11, 15,10],50)"
   ]
  },
  {
   "cell_type": "markdown",
   "id": "d8155b66",
   "metadata": {},
   "source": [
    "## Find the longest subarray sum equals k"
   ]
  },
  {
   "cell_type": "code",
   "execution_count": null,
   "id": "61943158",
   "metadata": {},
   "outputs": [],
   "source": [
    "[1,2,3,4,1,1,1,5]"
   ]
  },
  {
   "cell_type": "code",
   "execution_count": 133,
   "id": "0b8f4548",
   "metadata": {},
   "outputs": [],
   "source": [
    "def longest_subarray(arr:list,k:int):\n",
    "    sum_n=0\n",
    "    max_len=0\n",
    "    cum_sum_dict={0:1}\n",
    "    for i,num in enumerate(arr):\n",
    "        sum_n+=num\n",
    "        if sum_n==k:\n",
    "            max_len=max(max_len,i-0+1)\n",
    "        if sum_n-k in cum_sum_dict:\n",
    "            max_len=max(max_len,i-cum_sum_dict[sum_n-k])\n",
    "        print(f\"{i} iteration : dictionary :{cum_sum_dict} and sum_n-k:{sum_n-k} -> maxlen:{max_len}\")\n",
    "        cum_sum_dict[sum_n]=i\n",
    "    print(cum_sum_dict)\n",
    "    return max_len\n",
    "            "
   ]
  },
  {
   "cell_type": "code",
   "execution_count": 134,
   "id": "891480d4",
   "metadata": {},
   "outputs": [
    {
     "name": "stdout",
     "output_type": "stream",
     "text": [
      "0 iteration : dictionary :{0: 1} and sum_n-k:-2 -> maxlen:0\n",
      "1 iteration : dictionary :{0: 1, 1: 0} and sum_n-k:0 -> maxlen:2\n",
      "2 iteration : dictionary :{0: 1, 1: 0, 3: 1} and sum_n-k:3 -> maxlen:2\n",
      "3 iteration : dictionary :{0: 1, 1: 0, 3: 1, 6: 2} and sum_n-k:7 -> maxlen:2\n",
      "4 iteration : dictionary :{0: 1, 1: 0, 3: 1, 6: 2, 10: 3} and sum_n-k:8 -> maxlen:2\n",
      "5 iteration : dictionary :{0: 1, 1: 0, 3: 1, 6: 2, 10: 3, 11: 4} and sum_n-k:9 -> maxlen:2\n",
      "6 iteration : dictionary :{0: 1, 1: 0, 3: 1, 6: 2, 10: 3, 11: 4, 12: 5} and sum_n-k:10 -> maxlen:3\n",
      "7 iteration : dictionary :{0: 1, 1: 0, 3: 1, 6: 2, 10: 3, 11: 4, 12: 5, 13: 6} and sum_n-k:15 -> maxlen:3\n",
      "{0: 1, 1: 0, 3: 1, 6: 2, 10: 3, 11: 4, 12: 5, 13: 6, 18: 7}\n"
     ]
    },
    {
     "data": {
      "text/plain": [
       "3"
      ]
     },
     "execution_count": 134,
     "metadata": {},
     "output_type": "execute_result"
    }
   ],
   "source": [
    "longest_subarray([1,2,3,4,1,1,1,5],3)"
   ]
  },
  {
   "cell_type": "markdown",
   "id": "13ce0b4e",
   "metadata": {},
   "source": [
    "## Subarray sum equals k\n",
    "- Use a dictionary to store cumulative sums and their counts to count subarrays with sum k.\n",
    "- [1,1,1] k=2,output=2\n",
    "- [1,2,3,4,5,2] ,k=7,output=2"
   ]
  },
  {
   "cell_type": "code",
   "execution_count": 137,
   "id": "86b72bfd",
   "metadata": {},
   "outputs": [],
   "source": [
    "def subarray_sum_k(nums:list,k:int):\n",
    "    cnt=0\n",
    "    cum_sum=0\n",
    "    cum_dict={0:1}\n",
    "    for num in nums:\n",
    "        cum_sum+=num\n",
    "        if cum_sum-k in cum_dict:\n",
    "            cnt=cnt+cum_dict[cum_sum-k]\n",
    "        cum_dict[cum_sum]=cum_dict.get(cum_sum,0)+1\n",
    "    return cnt"
   ]
  },
  {
   "cell_type": "code",
   "execution_count": 139,
   "id": "96a2d245",
   "metadata": {},
   "outputs": [
    {
     "data": {
      "text/plain": [
       "3"
      ]
     },
     "execution_count": 139,
     "metadata": {},
     "output_type": "execute_result"
    }
   ],
   "source": [
    "subarray_sum_k([1,2,3,4,5,2,6,1],k=7)"
   ]
  },
  {
   "cell_type": "markdown",
   "id": "c864ed97",
   "metadata": {},
   "source": [
    "## Longest substring without repeating characters\n",
    "- Use a dictionary to store the last seen index of each character to achieve O(n) time."
   ]
  },
  {
   "cell_type": "code",
   "execution_count": 174,
   "id": "caf9e073",
   "metadata": {},
   "outputs": [],
   "source": [
    "def longest_substring(s1:str):\n",
    "    res=''\n",
    "    max_len=0\n",
    "    d1={}\n",
    "    anchor=0\n",
    "    for i,char in enumerate(s1):\n",
    "        if char in d1:\n",
    "            anchor=max(d1[char]+1,anchor)\n",
    "#             max_len=max(max_len,i-anchor)\n",
    "        d1[char]=i\n",
    "        max_len=max(max_len,i-anchor+1)\n",
    "#         d1[char]=i\n",
    "        print(f\"index:{i}--->anchor:{anchor}---->dictionary:{d1}----->maxlen:{max_len}\")\n",
    "#     max_len=max(max_len,i-anchor)\n",
    "    return max_len"
   ]
  },
  {
   "cell_type": "code",
   "execution_count": 178,
   "id": "35cb65f1",
   "metadata": {},
   "outputs": [
    {
     "name": "stdout",
     "output_type": "stream",
     "text": [
      "index:0--->anchor:0---->dictionary:{'a': 0}----->maxlen:1\n",
      "index:1--->anchor:0---->dictionary:{'a': 0, 'b': 1}----->maxlen:2\n",
      "index:2--->anchor:0---->dictionary:{'a': 0, 'b': 1, 'c': 2}----->maxlen:3\n",
      "index:3--->anchor:1---->dictionary:{'a': 3, 'b': 1, 'c': 2}----->maxlen:3\n",
      "index:4--->anchor:2---->dictionary:{'a': 3, 'b': 4, 'c': 2}----->maxlen:3\n",
      "index:5--->anchor:3---->dictionary:{'a': 3, 'b': 4, 'c': 5}----->maxlen:3\n",
      "index:6--->anchor:3---->dictionary:{'a': 3, 'b': 4, 'c': 5, 'd': 6}----->maxlen:4\n",
      "index:7--->anchor:3---->dictionary:{'a': 3, 'b': 4, 'c': 5, 'd': 6, 'e': 7}----->maxlen:5\n",
      "index:8--->anchor:8---->dictionary:{'a': 3, 'b': 4, 'c': 5, 'd': 6, 'e': 8}----->maxlen:5\n",
      "index:9--->anchor:8---->dictionary:{'a': 9, 'b': 4, 'c': 5, 'd': 6, 'e': 8}----->maxlen:5\n",
      "index:10--->anchor:8---->dictionary:{'a': 9, 'b': 10, 'c': 5, 'd': 6, 'e': 8}----->maxlen:5\n",
      "index:11--->anchor:8---->dictionary:{'a': 9, 'b': 10, 'c': 11, 'd': 6, 'e': 8}----->maxlen:5\n",
      "index:12--->anchor:8---->dictionary:{'a': 9, 'b': 10, 'c': 11, 'd': 12, 'e': 8}----->maxlen:5\n"
     ]
    },
    {
     "data": {
      "text/plain": [
       "5"
      ]
     },
     "execution_count": 178,
     "metadata": {},
     "output_type": "execute_result"
    }
   ],
   "source": [
    "longest_substring(\"abcabcdeeabcd\")"
   ]
  },
  {
   "cell_type": "markdown",
   "id": "59cf1d72",
   "metadata": {},
   "source": [
    "## Word Pattern Matching\n",
    "- Given a pattern and a string, check if there’s a bijection between pattern characters and words.\n",
    "- Input: pattern = \"abba\", str = \"dog cat cat dog\"\n",
    "- Output: True"
   ]
  },
  {
   "cell_type": "code",
   "execution_count": 187,
   "id": "21947c44",
   "metadata": {},
   "outputs": [],
   "source": [
    "def wordPattern(pattern: str, s: str) -> bool:\n",
    "        str_list=s.split()\n",
    "        d1={}\n",
    "        s1=set(pattern)\n",
    "        for char,word in list(zip(pattern,str_list)):\n",
    "            if char not in d1 and word  not in d1.values():\n",
    "                d1[char]=word\n",
    "            elif char in d1:\n",
    "                if d1[char]!=word:\n",
    "                    return False\n",
    "            print(f\"dictionary:{d1}\")\n",
    "        return len(s1)==len(d1)"
   ]
  },
  {
   "cell_type": "code",
   "execution_count": 188,
   "id": "b446d932",
   "metadata": {},
   "outputs": [
    {
     "name": "stdout",
     "output_type": "stream",
     "text": [
      "dictionary:{'a': 'dog'}\n",
      "dictionary:{'a': 'dog'}\n",
      "dictionary:{'a': 'dog'}\n",
      "dictionary:{'a': 'dog'}\n"
     ]
    },
    {
     "data": {
      "text/plain": [
       "False"
      ]
     },
     "execution_count": 188,
     "metadata": {},
     "output_type": "execute_result"
    }
   ],
   "source": [
    "wordPattern(\"abba\",\"dog dog dog dog\")"
   ]
  },
  {
   "cell_type": "markdown",
   "id": "e81a8c0a",
   "metadata": {},
   "source": [
    "##  Isomorphic Strings\n",
    "- Given two strings s and t, determine if they are isomorphic.\n",
    "- Two strings s and t are isomorphic if the characters in s can be replaced to get t.\n",
    "- Input: s = \"egg\", t = \"add\"\n",
    "- Output: true\n",
    "- Input: s = \"foo\", t = \"bar\"\n",
    "- Output: false"
   ]
  },
  {
   "cell_type": "code",
   "execution_count": 218,
   "id": "6dde0456",
   "metadata": {},
   "outputs": [],
   "source": [
    " def isIsomorphic( s: str, t: str) -> bool:\n",
    "        if len(s)!=len(t):\n",
    "            return False\n",
    "        d1={}\n",
    "        d2={}\n",
    "        for char_s,char_t in zip(s,t):\n",
    "            if char_s not in d1 :\n",
    "                if char_t not in d1.values():\n",
    "                    d1[char_s]=char_t\n",
    "                else:\n",
    "                    return False\n",
    "            elif char_s in d1:\n",
    "                if d1[char_s]!=char_t:\n",
    "                    return False\n",
    "            print(f\"dictionary :{d1}\")\n",
    "        return True"
   ]
  },
  {
   "cell_type": "code",
   "execution_count": 219,
   "id": "9ec76737",
   "metadata": {},
   "outputs": [
    {
     "name": "stdout",
     "output_type": "stream",
     "text": [
      "dictionary :{'b': 'b'}\n",
      "dictionary :{'b': 'b', 'a': 'a'}\n"
     ]
    },
    {
     "data": {
      "text/plain": [
       "False"
      ]
     },
     "execution_count": 219,
     "metadata": {},
     "output_type": "execute_result"
    }
   ],
   "source": [
    "isIsomorphic(\"badc\",'baba')"
   ]
  },
  {
   "cell_type": "code",
   "execution_count": null,
   "id": "ab1552da",
   "metadata": {},
   "outputs": [],
   "source": []
  }
 ],
 "metadata": {
  "kernelspec": {
   "display_name": "Python 3 (ipykernel)",
   "language": "python",
   "name": "python3"
  },
  "language_info": {
   "codemirror_mode": {
    "name": "ipython",
    "version": 3
   },
   "file_extension": ".py",
   "mimetype": "text/x-python",
   "name": "python",
   "nbconvert_exporter": "python",
   "pygments_lexer": "ipython3",
   "version": "3.9.18"
  }
 },
 "nbformat": 4,
 "nbformat_minor": 5
}
