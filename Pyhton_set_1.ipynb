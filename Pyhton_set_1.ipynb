{
 "cells": [
  {
   "cell_type": "markdown",
   "id": "7ac85c52-c1d6-4aac-bfb0-0ed0ae1b9a55",
   "metadata": {},
   "source": [
    "#### Q1. Write a Python program that defines a function called \"add_numbers\" that takes two arguments (i.e., numbers) and returns their sum. Within the function, add the #### two numbers together and return the result using the return statement. Call the function with the values 5 and 6, and print out the returned result. This will result in the addition of 5 and 6, with the output of the program being the sum of these two numbers."
   ]
  },
  {
   "cell_type": "code",
   "execution_count": 1,
   "id": "cc62a00c-58a1-49e2-9002-db1cd2e2f7fa",
   "metadata": {},
   "outputs": [],
   "source": [
    "def add_numbers(x,y):\n",
    "    return x+y"
   ]
  },
  {
   "cell_type": "code",
   "execution_count": 2,
   "id": "0e0c05e0-561a-4842-b4b0-35095abf3be7",
   "metadata": {},
   "outputs": [
    {
     "data": {
      "text/plain": [
       "11"
      ]
     },
     "execution_count": 2,
     "metadata": {},
     "output_type": "execute_result"
    }
   ],
   "source": [
    "add_numbers(5,6)"
   ]
  },
  {
   "cell_type": "markdown",
   "id": "fbb76bcf-ed93-4c84-90cb-bc7a212afbad",
   "metadata": {},
   "source": [
    "#### Q2. Write a Python program that calculates the square root of a given number using a built-in function. Specifically, the program should take an integer or float input from the user, calculate its square root\n",
    "#### using the 'sqrt()' function from the 'math' module, and print out the result to the user. As an example,calculate the square root of the number 625 using this program, which should output the value of 25."
   ]
  },
  {
   "cell_type": "code",
   "execution_count": 3,
   "id": "25243c6e-cf52-4890-9a89-12235c5545bc",
   "metadata": {},
   "outputs": [],
   "source": [
    "## calculate sqrt"
   ]
  },
  {
   "cell_type": "code",
   "execution_count": 6,
   "id": "faef27cb-8747-4207-a396-66d2ba579ed9",
   "metadata": {},
   "outputs": [],
   "source": [
    "from math import sqrt"
   ]
  },
  {
   "cell_type": "code",
   "execution_count": 7,
   "id": "9149f52f-f7c5-4a57-86e0-c7ce0360f86a",
   "metadata": {},
   "outputs": [],
   "source": [
    "def sqrt_no():\n",
    "    #import math\n",
    "    n=float(input(\"Enter number to calculat sqrt :\"))\n",
    "    return sqrt(n)"
   ]
  },
  {
   "cell_type": "code",
   "execution_count": 8,
   "id": "e52467e4-a0c9-4288-87e0-e6cea6edcfdd",
   "metadata": {},
   "outputs": [
    {
     "name": "stdin",
     "output_type": "stream",
     "text": [
      "Enter number to calculat sqrt : 625\n"
     ]
    },
    {
     "data": {
      "text/plain": [
       "25.0"
      ]
     },
     "execution_count": 8,
     "metadata": {},
     "output_type": "execute_result"
    }
   ],
   "source": [
    "sqrt_no()"
   ]
  },
  {
   "cell_type": "markdown",
   "id": "0495b644-4634-4db3-bb74-a6522a70459b",
   "metadata": {},
   "source": [
    "#### Q3.Write a program that prints all prime numbers between 0 to 50."
   ]
  },
  {
   "cell_type": "code",
   "execution_count": 51,
   "id": "4c6b447d-22e2-49a5-a35d-427a4f300837",
   "metadata": {},
   "outputs": [
    {
     "name": "stdout",
     "output_type": "stream",
     "text": [
      "2\n",
      "3\n",
      "5\n",
      "7\n",
      "11\n",
      "13\n",
      "17\n",
      "19\n",
      "23\n",
      "29\n",
      "31\n",
      "37\n",
      "41\n",
      "43\n",
      "47\n"
     ]
    }
   ],
   "source": [
    "for i  in range(0,50):\n",
    "    if i==2:\n",
    "        print(i)\n",
    "        continue\n",
    "    for j in range(2,i):\n",
    "        #print(j,i)\n",
    "        if i%j==0:\n",
    "            break\n",
    "    if j==i-1:\n",
    "        print(i)"
   ]
  },
  {
   "cell_type": "markdown",
   "id": "7cc23808-8d0b-4d40-a40b-525a791aff04",
   "metadata": {},
   "source": [
    "### Q4.How can we swap the values of three variables (let's say a, b, and c) without using a fourth variable?\n",
    "### For example, if we have a=5, b=8, and c=9, how can we obtain a=9, b=5, and c=8? The challenge is to\n",
    "### perform this operation without using an additional variable to store any of the values during the\n",
    "### swapping process."
   ]
  },
  {
   "cell_type": "code",
   "execution_count": 9,
   "id": "3271ff3b-f994-4f6b-9108-627b1615bb1c",
   "metadata": {},
   "outputs": [],
   "source": [
    "a,b,c=5,8,9"
   ]
  },
  {
   "cell_type": "code",
   "execution_count": 13,
   "id": "eb6e0da3-3328-4638-abec-8db365bb2c29",
   "metadata": {},
   "outputs": [],
   "source": [
    "a,b,c=c,a,b"
   ]
  },
  {
   "cell_type": "code",
   "execution_count": 17,
   "id": "2ef9de6c-25f0-4e03-8b1b-143e59cbf4f2",
   "metadata": {},
   "outputs": [
    {
     "data": {
      "text/plain": [
       "9"
      ]
     },
     "metadata": {},
     "output_type": "display_data"
    },
    {
     "data": {
      "text/plain": [
       "5"
      ]
     },
     "metadata": {},
     "output_type": "display_data"
    },
    {
     "data": {
      "text/plain": [
       "8"
      ]
     },
     "metadata": {},
     "output_type": "display_data"
    }
   ],
   "source": [
    "display(a,b,c)"
   ]
  },
  {
   "cell_type": "markdown",
   "id": "8f5c5c10-5e8e-4d4c-8150-cc38430adace",
   "metadata": {},
   "source": [
    "### Q5. Can you write a program that determines the nature of a given number (in this case, 87) as being positive, negative, or zero? The program should be designed to take the number as input and perform the necessary calculations to determine if the number is positive (i.e., greater than zero), negative (i.e., lessthan zero), or zero (i.e., equal to zero). The output of the program should indicate which of these three categories the given number falls into."
   ]
  },
  {
   "cell_type": "code",
   "execution_count": 21,
   "id": "7e877c6b-3e4b-4447-84cf-02d0f7707473",
   "metadata": {},
   "outputs": [
    {
     "name": "stdin",
     "output_type": "stream",
     "text": [
      "Enter the number to be tested : 89\n"
     ]
    },
    {
     "name": "stdout",
     "output_type": "stream",
     "text": [
      "Positive\n"
     ]
    }
   ],
   "source": [
    "num1=float(input(\"Enter the number to be tested :\"))\n",
    "if num1>0:\n",
    "    print(\"Positive\")\n",
    "elif num1<0:\n",
    "    print(\"Negative Value\")\n",
    "else:\n",
    "    print(\"Number is 0\")"
   ]
  },
  {
   "cell_type": "markdown",
   "id": "921b97de-6df6-4916-9b14-84e013e1a695",
   "metadata": {},
   "source": [
    "### Q6. How can you create a program that determines whether a given number (in this case, 98) is even or odd? The program should be designed to take the number as input and perform the necessary calculations to determine whether it is divisible by two. If the number is divisible by two without leaving a remainder, it is an even number, and if there is a remainder, it is an odd number. The output of the program should indicate whether the given number is even or odd."
   ]
  },
  {
   "cell_type": "code",
   "execution_count": 30,
   "id": "8c4a7e70-3fa8-4369-bc3e-64f1a2f564d7",
   "metadata": {},
   "outputs": [
    {
     "name": "stdin",
     "output_type": "stream",
     "text": [
      "Enter the number to be tested : -98\n"
     ]
    },
    {
     "name": "stdout",
     "output_type": "stream",
     "text": [
      "The number is Even\n"
     ]
    }
   ],
   "source": [
    "num1=int(input(\"Enter the number to be tested :\"))\n",
    "if num1==0:\n",
    "    print(\"Enter Valid Number \")\n",
    "elif num1%2!=0:\n",
    "    print(\"The number is Odd\")\n",
    "elif num1%2==0:\n",
    "    print(\"The number is Even\")"
   ]
  },
  {
   "cell_type": "markdown",
   "id": "b3705d14-29bd-4a1d-bde3-531bcc256e80",
   "metadata": {},
   "source": [
    "### Q7.Write a program for sum of digits.the digits are 76543 and the output should be 25."
   ]
  },
  {
   "cell_type": "code",
   "execution_count": 9,
   "id": "44482aa7-d037-495e-a35b-39210f1f0d64",
   "metadata": {},
   "outputs": [],
   "source": [
    "def sum_digits(n):\n",
    "    s=0\n",
    "    while(n>0):\n",
    "        x=n%10\n",
    "        s=s+x\n",
    "        n=int(n/10)\n",
    "    return s"
   ]
  },
  {
   "cell_type": "code",
   "execution_count": 13,
   "id": "a94ecf53-91f4-4434-8839-14e4284432c9",
   "metadata": {},
   "outputs": [
    {
     "data": {
      "text/plain": [
       "25"
      ]
     },
     "execution_count": 13,
     "metadata": {},
     "output_type": "execute_result"
    }
   ],
   "source": [
    "sum_digits(76543)"
   ]
  },
  {
   "cell_type": "markdown",
   "id": "6cb16213-46b1-4a4c-bd85-36901d5e2965",
   "metadata": {},
   "source": [
    "### Q8.Write a program for reversing the given number 5436 and the output should be 6345."
   ]
  },
  {
   "cell_type": "code",
   "execution_count": 14,
   "id": "c7982898-2b91-40d3-a432-8b7498f2553c",
   "metadata": {},
   "outputs": [],
   "source": [
    "def reverse_digits(n):\n",
    "    d=0\n",
    "    while(n>0):\n",
    "        x=n%10\n",
    "        d=x+d*10\n",
    "        n=int(n/10)\n",
    "    return d"
   ]
  },
  {
   "cell_type": "code",
   "execution_count": 15,
   "id": "ba7e3402-8536-4253-942f-d8f4a7f54035",
   "metadata": {},
   "outputs": [
    {
     "data": {
      "text/plain": [
       "6345"
      ]
     },
     "execution_count": 15,
     "metadata": {},
     "output_type": "execute_result"
    }
   ],
   "source": [
    "reverse_digits(5436)"
   ]
  },
  {
   "cell_type": "markdown",
   "id": "fdf1aa38-b2b4-4c7a-99fe-4e170afe4d40",
   "metadata": {},
   "source": [
    "### Q9.Write a program to check if a given number 371 is an Armstrong number?"
   ]
  },
  {
   "cell_type": "code",
   "execution_count": 16,
   "id": "14cabc42-0ac0-4b07-b765-79e2e3796067",
   "metadata": {},
   "outputs": [],
   "source": [
    "def armstrong(num):\n",
    "    s=0\n",
    "    while(num>0):\n",
    "        x=num%10\n",
    "        s=s+x*x*x\n",
    "        num=int(num/10)\n",
    "    return s"
   ]
  },
  {
   "cell_type": "code",
   "execution_count": 17,
   "id": "825b06da-fd2d-4eb5-93f0-fcaf92d0efdb",
   "metadata": {},
   "outputs": [
    {
     "data": {
      "text/plain": [
       "371"
      ]
     },
     "execution_count": 17,
     "metadata": {},
     "output_type": "execute_result"
    }
   ],
   "source": [
    "armstrong(371)"
   ]
  },
  {
   "cell_type": "code",
   "execution_count": 23,
   "id": "6c420e57-b2db-445d-8ccb-348c9f7658be",
   "metadata": {},
   "outputs": [
    {
     "name": "stdin",
     "output_type": "stream",
     "text": [
      "Enter the armstrong number: 153\n"
     ]
    },
    {
     "name": "stdout",
     "output_type": "stream",
     "text": [
      "Number is armstrong\n"
     ]
    }
   ],
   "source": [
    "num=int(input(\"Enter the armstrong number:\"))\n",
    "if armstrong(num)==num:\n",
    "    print(\"Number is armstrong\")\n",
    "else:\n",
    "    print(\"Not a armstrong\")"
   ]
  },
  {
   "cell_type": "markdown",
   "id": "58a0d89d-1304-4ef7-8eef-3947fd359233",
   "metadata": {},
   "source": [
    "### Q10.Write a program the given year is 1996, a leap year."
   ]
  },
  {
   "cell_type": "code",
   "execution_count": 31,
   "id": "6ae33022-e0ea-4753-888f-62766e44b11f",
   "metadata": {},
   "outputs": [
    {
     "name": "stdin",
     "output_type": "stream",
     "text": [
      "Enter the year  1234\n"
     ]
    },
    {
     "name": "stdout",
     "output_type": "stream",
     "text": [
      "1234 is not a leap year\n"
     ]
    }
   ],
   "source": [
    "yr=int(input(\"Enter the year \"))\n",
    "if (yr%4==0 and yr%100!=0) or (yr%400==0):\n",
    "    print(\"{} is a leap year\".format(yr))\n",
    "else:\n",
    "    print(\"{} is not a leap year\".format(yr))"
   ]
  },
  {
   "cell_type": "code",
   "execution_count": 32,
   "id": "2b47f851-2069-487a-af60-2a51a1e3537a",
   "metadata": {},
   "outputs": [
    {
     "data": {
      "text/plain": [
       "12"
      ]
     },
     "execution_count": 32,
     "metadata": {},
     "output_type": "execute_result"
    }
   ],
   "source": [
    "123//10"
   ]
  },
  {
   "cell_type": "code",
   "execution_count": null,
   "id": "a1f1cc3a-4ad9-46a2-ad48-14b32a62a079",
   "metadata": {},
   "outputs": [],
   "source": []
  }
 ],
 "metadata": {
  "kernelspec": {
   "display_name": "Python 3 (ipykernel)",
   "language": "python",
   "name": "python3"
  },
  "language_info": {
   "codemirror_mode": {
    "name": "ipython",
    "version": 3
   },
   "file_extension": ".py",
   "mimetype": "text/x-python",
   "name": "python",
   "nbconvert_exporter": "python",
   "pygments_lexer": "ipython3",
   "version": "3.10.8"
  }
 },
 "nbformat": 4,
 "nbformat_minor": 5
}
