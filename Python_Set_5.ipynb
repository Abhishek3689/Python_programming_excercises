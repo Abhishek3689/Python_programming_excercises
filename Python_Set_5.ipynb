{
 "cells": [
  {
   "cell_type": "markdown",
   "id": "6cd87d0a-961c-44a6-80e2-db7c4487ab5d",
   "metadata": {},
   "source": [
    "Q1. Can you create a Python program that reads a text file and counts the number of words contained\n",
    "within it? The program should be designed to read the file and break it down into individual words, using\n",
    "spaces, punctuation marks, and other delimiters to separate the words. It should then count the number\n",
    "of words found in the file and display this count as output. The program should be flexible enough to work\n",
    "with different text files and should be able to handle a variety of formatting and punctuation styles."
   ]
  },
  {
   "cell_type": "code",
   "execution_count": 1,
   "id": "f1bc672b-c89a-45cf-bc8a-9252b85bbe85",
   "metadata": {},
   "outputs": [],
   "source": [
    "with open('text.txt','w') as f:\n",
    "    f.write(\"I am writing this program! to count the number of words. The program can take different text files\")"
   ]
  },
  {
   "cell_type": "code",
   "execution_count": 2,
   "id": "00cfd6f1-a77d-4843-9dd6-dc262a2d45b3",
   "metadata": {},
   "outputs": [
    {
     "name": "stdout",
     "output_type": "stream",
     "text": [
      "20\n"
     ]
    }
   ],
   "source": [
    "with open(\"text.txt\",\"r\") as f:\n",
    "    string=f.read()\n",
    "    string=string.replace('!',' ')\n",
    "    string=string.replace('.',' ')\n",
    "    l1=string.split(' ')\n",
    "    print(len(l1))\n",
    "    #f.close()"
   ]
  },
  {
   "cell_type": "markdown",
   "id": "c92f95bb-351a-425f-950b-b95676d7749f",
   "metadata": {},
   "source": [
    "Q2. Could you help me create a Python program that can find and display the longest word in a text file?\n",
    "The program should be able to read any text file and separate its contents into individual words, taking\n",
    "into account various delimiters like spaces, punctuation marks, and other characters. Then, it should\n",
    "compare the length of each word and determine which one is the longest, and finally, print that word as\n",
    "output. The program should be versatile enough to work with various text files and be able to handle\n",
    "different formatting styles and punctuation."
   ]
  },
  {
   "cell_type": "code",
   "execution_count": 3,
   "id": "f7bf6da9-1dff-4a67-84cd-c1715b0b1f58",
   "metadata": {},
   "outputs": [
    {
     "name": "stdout",
     "output_type": "stream",
     "text": [
      "The largest word is 'different' and length of the word is 9\n"
     ]
    }
   ],
   "source": [
    "with open(\"text.txt\",'r') as f:\n",
    "    words=f.read().split()\n",
    "    ln=0\n",
    "    for i in range(len(words)):\n",
    "        if len(words[i])>ln:\n",
    "            ln=len(words[i])\n",
    "            word=words[i]\n",
    "    print(\"The largest word is '{}' and length of the word is {}\".format(word,ln))"
   ]
  },
  {
   "cell_type": "markdown",
   "id": "2c6d4f47-7083-4451-b88b-6d00b5c1bee4",
   "metadata": {},
   "source": [
    "Q3. Write a Python program to read a text file and print out the most frequent word(s) in the file."
   ]
  },
  {
   "cell_type": "code",
   "execution_count": 4,
   "id": "201f75b5-648d-4fa4-8fc5-2eaa1515e54b",
   "metadata": {},
   "outputs": [
    {
     "name": "stdout",
     "output_type": "stream",
     "text": [
      "Word is 'a' and count is 3\n"
     ]
    }
   ],
   "source": [
    "with open('text1.txt','r') as f:\n",
    "    words=f.read()\n",
    "    words=words.lower()\n",
    "    words=words.split()\n",
    "    d={}\n",
    "    ln=0\n",
    "    for i in range(len(words)):\n",
    "        if (words.count(words[i]))>ln:\n",
    "            ln=words.count(words[i])\n",
    "            word=words[i]\n",
    "    print(\"Word is '{}' and count is {}\".format(word,ln))\n",
    "        #cnt=words.count(words[i])\n",
    "        "
   ]
  },
  {
   "cell_type": "code",
   "execution_count": 5,
   "id": "d83f631f-b864-467b-991e-943967675d6e",
   "metadata": {},
   "outputs": [],
   "source": [
    "with open(\"text1.txt\",\"w\") as f:\n",
    "    f.write(\"the word in a group of word is in a sentence of a paragraph\")"
   ]
  },
  {
   "cell_type": "markdown",
   "id": "9269047f-ad16-4687-a6e6-54542eec137a",
   "metadata": {},
   "source": [
    "Q4. How can you use Python to count the number of rows in a CSV file?"
   ]
  },
  {
   "cell_type": "code",
   "execution_count": 6,
   "id": "27f4df15-70d3-47ef-8ae4-f97e9a12cc78",
   "metadata": {},
   "outputs": [],
   "source": [
    "import pandas as pd"
   ]
  },
  {
   "cell_type": "code",
   "execution_count": 7,
   "id": "71244c84-2963-47a0-921f-e3cbb7720189",
   "metadata": {},
   "outputs": [],
   "source": [
    "df=pd.DataFrame({'Sr no.':[1,2,3,4,5],'Roll No':[25,28,34,45,67],'Name':['Abhishek','Vinay','Rahul','Abhigyan','Nitin']})"
   ]
  },
  {
   "cell_type": "code",
   "execution_count": 8,
   "id": "0b1fb8a0-7ad1-41f1-9363-53266c787c0c",
   "metadata": {},
   "outputs": [
    {
     "data": {
      "text/html": [
       "<div>\n",
       "<style scoped>\n",
       "    .dataframe tbody tr th:only-of-type {\n",
       "        vertical-align: middle;\n",
       "    }\n",
       "\n",
       "    .dataframe tbody tr th {\n",
       "        vertical-align: top;\n",
       "    }\n",
       "\n",
       "    .dataframe thead th {\n",
       "        text-align: right;\n",
       "    }\n",
       "</style>\n",
       "<table border=\"1\" class=\"dataframe\">\n",
       "  <thead>\n",
       "    <tr style=\"text-align: right;\">\n",
       "      <th></th>\n",
       "      <th>Sr no.</th>\n",
       "      <th>Roll No</th>\n",
       "      <th>Name</th>\n",
       "    </tr>\n",
       "  </thead>\n",
       "  <tbody>\n",
       "    <tr>\n",
       "      <th>0</th>\n",
       "      <td>1</td>\n",
       "      <td>25</td>\n",
       "      <td>Abhishek</td>\n",
       "    </tr>\n",
       "    <tr>\n",
       "      <th>1</th>\n",
       "      <td>2</td>\n",
       "      <td>28</td>\n",
       "      <td>Vinay</td>\n",
       "    </tr>\n",
       "    <tr>\n",
       "      <th>2</th>\n",
       "      <td>3</td>\n",
       "      <td>34</td>\n",
       "      <td>Rahul</td>\n",
       "    </tr>\n",
       "    <tr>\n",
       "      <th>3</th>\n",
       "      <td>4</td>\n",
       "      <td>45</td>\n",
       "      <td>Abhigyan</td>\n",
       "    </tr>\n",
       "    <tr>\n",
       "      <th>4</th>\n",
       "      <td>5</td>\n",
       "      <td>67</td>\n",
       "      <td>Nitin</td>\n",
       "    </tr>\n",
       "  </tbody>\n",
       "</table>\n",
       "</div>"
      ],
      "text/plain": [
       "   Sr no.  Roll No      Name\n",
       "0       1       25  Abhishek\n",
       "1       2       28     Vinay\n",
       "2       3       34     Rahul\n",
       "3       4       45  Abhigyan\n",
       "4       5       67     Nitin"
      ]
     },
     "execution_count": 8,
     "metadata": {},
     "output_type": "execute_result"
    }
   ],
   "source": [
    "df"
   ]
  },
  {
   "cell_type": "code",
   "execution_count": 9,
   "id": "82e93209-70f1-4f1d-83cc-8b1ac74ecced",
   "metadata": {},
   "outputs": [],
   "source": [
    "df.to_csv('school.csv')"
   ]
  },
  {
   "cell_type": "code",
   "execution_count": 10,
   "id": "1e155964-61a3-4d08-a7f7-2081cb59432f",
   "metadata": {},
   "outputs": [],
   "source": [
    "import csv"
   ]
  },
  {
   "cell_type": "code",
   "execution_count": 11,
   "id": "ed338ce4-1986-43bc-a5bb-b6126105fc0b",
   "metadata": {},
   "outputs": [
    {
     "name": "stdout",
     "output_type": "stream",
     "text": [
      "6\n"
     ]
    }
   ],
   "source": [
    "with open('school.csv','r') as f:\n",
    "    reader=csv.reader(f)\n",
    "    s=sum(1 for i in reader)\n",
    "    print(s)  "
   ]
  },
  {
   "cell_type": "markdown",
   "id": "e80b312f-a084-48d9-84b5-f04e577ed0be",
   "metadata": {},
   "source": [
    "Q5. How can you use Python to calculate the average of a specific column in a CSV file?"
   ]
  },
  {
   "cell_type": "code",
   "execution_count": 12,
   "id": "417bd4f3-8968-4aa7-92da-5e11a1528aa0",
   "metadata": {},
   "outputs": [
    {
     "name": "stdout",
     "output_type": "stream",
     "text": [
      "39.8\n"
     ]
    }
   ],
   "source": [
    "with open('school.csv','r') as f:\n",
    "    reader =csv.reader(f)\n",
    "    next(reader)\n",
    "    values=[float(row[2]) for row in reader]\n",
    "avg=sum(values)/len(values)\n",
    "print(avg)"
   ]
  },
  {
   "cell_type": "code",
   "execution_count": 13,
   "id": "8358dd82-bad5-4a1b-8e66-15949c057bfc",
   "metadata": {},
   "outputs": [
    {
     "name": "stdout",
     "output_type": "stream",
     "text": [
      "Roll No\n",
      "25\n",
      "28\n",
      "34\n",
      "45\n",
      "67\n"
     ]
    }
   ],
   "source": [
    "with open('school.csv','r') as f:\n",
    "    reader=csv.reader(f)\n",
    "    for row in reader:\n",
    "        print (row[2])"
   ]
  },
  {
   "cell_type": "markdown",
   "id": "8054e638-cab9-4b8e-9a41-410de749bb9c",
   "metadata": {},
   "source": [
    "Q6. Write a Python program to read a JSON file and print out the value of a specified key."
   ]
  },
  {
   "cell_type": "code",
   "execution_count": 14,
   "id": "28ee7fc8-1589-40c5-9bda-09db8d9fa045",
   "metadata": {},
   "outputs": [],
   "source": [
    "import json"
   ]
  },
  {
   "cell_type": "code",
   "execution_count": 15,
   "id": "e6c26566-a549-41fa-a287-678cfeb17c49",
   "metadata": {},
   "outputs": [
    {
     "name": "stdout",
     "output_type": "stream",
     "text": [
      "{'0': 'Abhishek', '1': 'Vinay', '2': 'Rahul', '3': 'Abhigyan', '4': 'Nitin'}\n"
     ]
    }
   ],
   "source": [
    "with open(\"marks.json\",\"r\") as f:\n",
    "    r=json.load(f)\n",
    "    print(r['Name'])\n",
    "    "
   ]
  },
  {
   "cell_type": "markdown",
   "id": "32ebc29e-956b-4566-b92f-2b28e192ff85",
   "metadata": {},
   "source": [
    "Q7. Can you provide a Python code snippet to write a list of strings into a text file where each string is\n",
    "written on a new line?"
   ]
  },
  {
   "cell_type": "code",
   "execution_count": 16,
   "id": "1de091d1-acf9-49c0-995b-2c3a631e76f2",
   "metadata": {},
   "outputs": [],
   "source": [
    "l1=['world','universe','solar system','sun','earth']"
   ]
  },
  {
   "cell_type": "code",
   "execution_count": 17,
   "id": "ead3b565-51aa-4708-8459-4ff13d4befbb",
   "metadata": {},
   "outputs": [],
   "source": [
    "with open(\"string.txt\",\"w\") as f:\n",
    "    for i in l1:\n",
    "        f.write(f'{i}\\n')"
   ]
  },
  {
   "cell_type": "markdown",
   "id": "27cf886b-6f50-4d34-b434-f1f271ad4324",
   "metadata": {},
   "source": [
    "Q8. Can you provide a Python code to read a binary file and display the data in hexadecimal format."
   ]
  },
  {
   "cell_type": "code",
   "execution_count": 18,
   "id": "7bbf7d09-670e-4bdc-8175-47d134764ed6",
   "metadata": {},
   "outputs": [],
   "source": [
    "import binascii"
   ]
  },
  {
   "cell_type": "code",
   "execution_count": 19,
   "id": "d16f8b20-b0ea-40f2-978c-76385f075593",
   "metadata": {},
   "outputs": [
    {
     "name": "stdout",
     "output_type": "stream",
     "text": [
      "4920616d2077726974696e6720746869732070726f6772616d2120746f20636f756e7420746865206e756d626572206f6620776f7264732e205468652070726f6772616d2063616e2074616b6520646966666572656e7420746578742066696c6573\n"
     ]
    }
   ],
   "source": [
    "with open(\"text.txt\",\"rb\") as f:\n",
    "    r=f.read()\n",
    "    hex_r=binascii.hexlify(r).decode()\n",
    "    print(hex_r)"
   ]
  },
  {
   "cell_type": "markdown",
   "id": "1a4f2a87-244e-466b-9798-2df11058accd",
   "metadata": {},
   "source": [
    "Q9. Can you write a Python code to read a Comma-Separated Values (CSV) file, apply a specific condition\n",
    "to each row, and create a new CSV file that contains only the rows that satisfy the condition? For example,\n",
    "if the CSV file contains information about products and their prices, you may want to create a new CSV\n",
    "file that only includes the products that are within a certain price range. The program should be able to\n",
    "read the CSV file, compare the values in each row to the specified condition, and write the rows that meet\n",
    "the criteria to a new CSV file.\n"
   ]
  },
  {
   "cell_type": "code",
   "execution_count": 20,
   "id": "75569c5a-fb68-427f-8469-6ed10d44fa39",
   "metadata": {},
   "outputs": [],
   "source": [
    "df2=pd.DataFrame({\"Product_Id\":['P01','P02','P03','P04','P05','P06','P07','P08'],\n",
    "                  \"Product_Name\":[\"Bread\",\"Milk\",\"Choclate\",\"Icecream\",\"Jam\",\"Egg\",\"Curd\",\"Butter\"],\n",
    "                  \"Price\":[15,54,20,40,60,72,32,100]})"
   ]
  },
  {
   "cell_type": "code",
   "execution_count": 21,
   "id": "99be131b-cb25-4ef3-80e4-286d06fb174f",
   "metadata": {},
   "outputs": [
    {
     "data": {
      "text/html": [
       "<div>\n",
       "<style scoped>\n",
       "    .dataframe tbody tr th:only-of-type {\n",
       "        vertical-align: middle;\n",
       "    }\n",
       "\n",
       "    .dataframe tbody tr th {\n",
       "        vertical-align: top;\n",
       "    }\n",
       "\n",
       "    .dataframe thead th {\n",
       "        text-align: right;\n",
       "    }\n",
       "</style>\n",
       "<table border=\"1\" class=\"dataframe\">\n",
       "  <thead>\n",
       "    <tr style=\"text-align: right;\">\n",
       "      <th></th>\n",
       "      <th>Product_Id</th>\n",
       "      <th>Product_Name</th>\n",
       "      <th>Price</th>\n",
       "    </tr>\n",
       "  </thead>\n",
       "  <tbody>\n",
       "    <tr>\n",
       "      <th>0</th>\n",
       "      <td>P01</td>\n",
       "      <td>Bread</td>\n",
       "      <td>15</td>\n",
       "    </tr>\n",
       "    <tr>\n",
       "      <th>1</th>\n",
       "      <td>P02</td>\n",
       "      <td>Milk</td>\n",
       "      <td>54</td>\n",
       "    </tr>\n",
       "    <tr>\n",
       "      <th>2</th>\n",
       "      <td>P03</td>\n",
       "      <td>Choclate</td>\n",
       "      <td>20</td>\n",
       "    </tr>\n",
       "    <tr>\n",
       "      <th>3</th>\n",
       "      <td>P04</td>\n",
       "      <td>Icecream</td>\n",
       "      <td>40</td>\n",
       "    </tr>\n",
       "    <tr>\n",
       "      <th>4</th>\n",
       "      <td>P05</td>\n",
       "      <td>Jam</td>\n",
       "      <td>60</td>\n",
       "    </tr>\n",
       "    <tr>\n",
       "      <th>5</th>\n",
       "      <td>P06</td>\n",
       "      <td>Egg</td>\n",
       "      <td>72</td>\n",
       "    </tr>\n",
       "    <tr>\n",
       "      <th>6</th>\n",
       "      <td>P07</td>\n",
       "      <td>Curd</td>\n",
       "      <td>32</td>\n",
       "    </tr>\n",
       "    <tr>\n",
       "      <th>7</th>\n",
       "      <td>P08</td>\n",
       "      <td>Butter</td>\n",
       "      <td>100</td>\n",
       "    </tr>\n",
       "  </tbody>\n",
       "</table>\n",
       "</div>"
      ],
      "text/plain": [
       "  Product_Id Product_Name  Price\n",
       "0        P01        Bread     15\n",
       "1        P02         Milk     54\n",
       "2        P03     Choclate     20\n",
       "3        P04     Icecream     40\n",
       "4        P05          Jam     60\n",
       "5        P06          Egg     72\n",
       "6        P07         Curd     32\n",
       "7        P08       Butter    100"
      ]
     },
     "execution_count": 21,
     "metadata": {},
     "output_type": "execute_result"
    }
   ],
   "source": [
    "df2"
   ]
  },
  {
   "cell_type": "code",
   "execution_count": 22,
   "id": "97944150-6a9f-467a-a018-8287dca32798",
   "metadata": {},
   "outputs": [],
   "source": [
    "df2.to_csv(\"Product.csv\",index=False)"
   ]
  },
  {
   "cell_type": "code",
   "execution_count": 23,
   "id": "c26b5e6f-9336-4cb4-bb5e-b0a6cfd2d493",
   "metadata": {},
   "outputs": [],
   "source": [
    "with open(\"Product.csv\",\"r\") as f,open(\"save_product.csv\",\"w\") as f2:\n",
    "    reader=csv.reader(f)\n",
    "    writer=csv.writer(f2)\n",
    "    \n",
    "    #next(reader)\n",
    "    for row in reader:\n",
    "        if row[2] >str(40):\n",
    "            writer.writerow(row)\n",
    "    "
   ]
  },
  {
   "cell_type": "markdown",
   "id": "8587de43-de0a-4d71-9440-22697f5fda1b",
   "metadata": {},
   "source": [
    "Q10.Write a Python program to read a text file, count the frequency of each word, and write the results to a new text file."
   ]
  },
  {
   "cell_type": "code",
   "execution_count": 24,
   "id": "1ba08390-d5c6-466c-8264-714e5fa32feb",
   "metadata": {},
   "outputs": [],
   "source": [
    "d={}\n",
    "with open(\"text1.txt\",\"r\") as f,open(\"save_txt.txt\",'w') as f2:\n",
    "    file=f.read()\n",
    "    file_split=file.split()\n",
    "    for word in file_split:\n",
    "        if word not in d:\n",
    "            d[word]=file_split.count(word)\n",
    "            f2.write(f\"{word}:{d[word]}\\n\")\n",
    "    "
   ]
  },
  {
   "cell_type": "code",
   "execution_count": 25,
   "id": "a13bb383-79d9-48b5-af86-51e1cea0c1a7",
   "metadata": {},
   "outputs": [
    {
     "data": {
      "text/plain": [
       "{'the': 1,\n",
       " 'word': 2,\n",
       " 'in': 2,\n",
       " 'a': 3,\n",
       " 'group': 1,\n",
       " 'of': 2,\n",
       " 'is': 1,\n",
       " 'sentence': 1,\n",
       " 'paragraph': 1}"
      ]
     },
     "execution_count": 25,
     "metadata": {},
     "output_type": "execute_result"
    }
   ],
   "source": [
    "d"
   ]
  },
  {
   "cell_type": "code",
   "execution_count": 26,
   "id": "79995672-7739-4820-8ecf-7c879d3e3451",
   "metadata": {},
   "outputs": [],
   "source": [
    "## Another Method "
   ]
  },
  {
   "cell_type": "code",
   "execution_count": 27,
   "id": "1d20d28b-8e8d-4066-a6fc-e180a5eb843b",
   "metadata": {},
   "outputs": [],
   "source": [
    "# Define a function to count the frequency of each word in a list\n",
    "def count_word_frequency(words):\n",
    "    frequency = {}\n",
    "    for word in words:\n",
    "        if word in frequency:\n",
    "            frequency[word] += 1\n",
    "        else:\n",
    "            frequency[word] = 1\n",
    "    return frequency\n",
    "\n",
    "# Read the input text file and count the frequency of each word\n",
    "with open('text1.txt', 'r') as input_file:\n",
    "    text = input_file.read()\n",
    "    words = text.split()\n",
    "    word_frequency = count_word_frequency(words)\n",
    "\n",
    "# Write the word frequency data to the output text file\n",
    "with open('count_words', 'w') as output_file:\n",
    "    for word, count in word_frequency.items():\n",
    "        output_file.write(f\"{word}: {count}\\n\")"
   ]
  },
  {
   "cell_type": "code",
   "execution_count": null,
   "id": "341beacb-570e-4e21-821d-b5acf0922670",
   "metadata": {},
   "outputs": [],
   "source": []
  }
 ],
 "metadata": {
  "kernelspec": {
   "display_name": "Python 3 (ipykernel)",
   "language": "python",
   "name": "python3"
  },
  "language_info": {
   "codemirror_mode": {
    "name": "ipython",
    "version": 3
   },
   "file_extension": ".py",
   "mimetype": "text/x-python",
   "name": "python",
   "nbconvert_exporter": "python",
   "pygments_lexer": "ipython3",
   "version": "3.10.8"
  }
 },
 "nbformat": 4,
 "nbformat_minor": 5
}
