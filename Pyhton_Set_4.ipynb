{
 "cells": [
  {
   "cell_type": "markdown",
   "id": "aa4d66e7-e5d6-4214-af7f-3e67ffd88c8e",
   "metadata": {},
   "source": [
    "Q1. Create a class called \"Person\" with properties for \"name\", \"age\", and \"gender\". Create an object of this\n",
    "class and print out its properties."
   ]
  },
  {
   "cell_type": "code",
   "execution_count": 1,
   "id": "9c35bc06-87b4-4de7-bc10-f7cb37b46a75",
   "metadata": {},
   "outputs": [],
   "source": [
    "class Person:\n",
    "    def __init__(self,name,age,gender):\n",
    "        self.name=name\n",
    "        self.age=age\n",
    "        self.gender=gender"
   ]
  },
  {
   "cell_type": "code",
   "execution_count": 2,
   "id": "6b8104b2-b77b-4d11-a42d-e094cb099479",
   "metadata": {},
   "outputs": [],
   "source": [
    "pn=Person('abhishek',33,'Male')"
   ]
  },
  {
   "cell_type": "code",
   "execution_count": 3,
   "id": "338f459f-f60d-4035-a27c-ab2fffaa2238",
   "metadata": {},
   "outputs": [
    {
     "name": "stdout",
     "output_type": "stream",
     "text": [
      "{'name': 'abhishek', 'age': 33, 'gender': 'Male'}\n"
     ]
    }
   ],
   "source": [
    "print(pn.__dict__)"
   ]
  },
  {
   "cell_type": "code",
   "execution_count": 4,
   "id": "9dd13a41-6c3b-472c-b8bf-7cf6c51c3fd1",
   "metadata": {},
   "outputs": [
    {
     "name": "stdout",
     "output_type": "stream",
     "text": [
      "{'name': 'abhishek', 'age': 33, 'gender': 'Male'}\n"
     ]
    }
   ],
   "source": [
    "print(vars(pn))"
   ]
  },
  {
   "cell_type": "code",
   "execution_count": 5,
   "id": "0a8d63bb-b13f-44ef-ac7e-77c67a61ec52",
   "metadata": {},
   "outputs": [
    {
     "data": {
      "text/plain": [
       "33"
      ]
     },
     "metadata": {},
     "output_type": "display_data"
    },
    {
     "data": {
      "text/plain": [
       "'abhishek'"
      ]
     },
     "metadata": {},
     "output_type": "display_data"
    },
    {
     "data": {
      "text/plain": [
       "'Male'"
      ]
     },
     "metadata": {},
     "output_type": "display_data"
    }
   ],
   "source": [
    "display(pn.age,pn.name,pn.gender)"
   ]
  },
  {
   "cell_type": "markdown",
   "id": "8208cfa7-9d74-461d-a2c0-74021ce29c7f",
   "metadata": {},
   "source": [
    "Q2. Write a Python class called \"Rectangle\" with attributes for \"width\" and \"height\". Implement methods\n",
    "to calculate the area and perimeter of the rectangle. Create an instance of this class and use it to print out\n",
    "the rectangle's area and perimeter."
   ]
  },
  {
   "cell_type": "code",
   "execution_count": 6,
   "id": "175a7e06-dd1e-4d34-97f9-61309ac35411",
   "metadata": {},
   "outputs": [],
   "source": [
    "class Rectangle:\n",
    "    def __init__(self,width,height):\n",
    "        self.w=width\n",
    "        self.h=height\n",
    "        \n",
    "    def area(self):\n",
    "        return self.w*self.h\n",
    "    def perimeter(self):\n",
    "        return 2*(self.w+self.h)"
   ]
  },
  {
   "cell_type": "code",
   "execution_count": 7,
   "id": "06c92c40-5348-4b76-ba14-1ac2849bbbfc",
   "metadata": {},
   "outputs": [],
   "source": [
    "rc=Rectangle(4,5)"
   ]
  },
  {
   "cell_type": "code",
   "execution_count": 8,
   "id": "5806691c-1969-455d-84e1-50809cb5921d",
   "metadata": {},
   "outputs": [
    {
     "data": {
      "text/plain": [
       "5"
      ]
     },
     "execution_count": 8,
     "metadata": {},
     "output_type": "execute_result"
    }
   ],
   "source": [
    "rc.h"
   ]
  },
  {
   "cell_type": "code",
   "execution_count": 9,
   "id": "1a97ccef-2ab5-49c9-9684-7e83b092a03e",
   "metadata": {},
   "outputs": [
    {
     "data": {
      "text/plain": [
       "4"
      ]
     },
     "execution_count": 9,
     "metadata": {},
     "output_type": "execute_result"
    }
   ],
   "source": [
    "rc.w"
   ]
  },
  {
   "cell_type": "code",
   "execution_count": 10,
   "id": "a524ba06-8b20-440c-b574-79e31f52afe2",
   "metadata": {},
   "outputs": [
    {
     "data": {
      "text/plain": [
       "20"
      ]
     },
     "execution_count": 10,
     "metadata": {},
     "output_type": "execute_result"
    }
   ],
   "source": [
    "rc.area()"
   ]
  },
  {
   "cell_type": "code",
   "execution_count": 11,
   "id": "382fb004-220b-4e0a-980e-f036c0c94525",
   "metadata": {},
   "outputs": [
    {
     "data": {
      "text/plain": [
       "18"
      ]
     },
     "execution_count": 11,
     "metadata": {},
     "output_type": "execute_result"
    }
   ],
   "source": [
    "rc.perimeter()"
   ]
  },
  {
   "cell_type": "markdown",
   "id": "c76aa46e-b960-4015-83c2-272919343243",
   "metadata": {},
   "source": [
    "Q3. Write a Python class called \"BankAccount\" with attributes for \"balance\" and \"interest_rate\".\n",
    "Implement methods to deposit and withdraw money from the account, as well as to calculate the interest\n",
    "earned on the balance based on the interest rate. Create an instance of this class and use it to test out the\n",
    "implemented methods for deposit, withdrawal, and interest calculation."
   ]
  },
  {
   "cell_type": "code",
   "execution_count": 12,
   "id": "ef629bb8-4298-454d-8a2f-99cf91b32dc5",
   "metadata": {},
   "outputs": [],
   "source": [
    "class BankAccount:\n",
    "    def __init__(self,balance,interest_rate):\n",
    "        self.balance=balance\n",
    "        self.interest_rate=interest_rate\n",
    "        print(\"Value entered\")\n",
    "    \n",
    "    def display(self):\n",
    "        return self.balance,self.interest_rate\n",
    "    \n",
    "    def deposit(self,amount):\n",
    "        self.balance=self.balance+amount\n",
    "        \n",
    "    def withdraw(self,amount):\n",
    "        if self.balance>=amount:\n",
    "            self.balance=self.balance-amount\n",
    "        else:\n",
    "            print(\"Balance is less than withdrawal\")"
   ]
  },
  {
   "cell_type": "code",
   "execution_count": 13,
   "id": "15e72182-adf8-4e73-aa03-71b59d7f9bb3",
   "metadata": {},
   "outputs": [
    {
     "name": "stdout",
     "output_type": "stream",
     "text": [
      "Value entered\n"
     ]
    }
   ],
   "source": [
    "ba=BankAccount(5000,10)"
   ]
  },
  {
   "cell_type": "code",
   "execution_count": 14,
   "id": "0891cd47-208e-45f0-be05-6b3fb1c72387",
   "metadata": {},
   "outputs": [
    {
     "data": {
      "text/plain": [
       "(5000, 10)"
      ]
     },
     "execution_count": 14,
     "metadata": {},
     "output_type": "execute_result"
    }
   ],
   "source": [
    "ba.display()"
   ]
  },
  {
   "cell_type": "code",
   "execution_count": 15,
   "id": "76b00bce-6920-48b9-83bd-55622814c733",
   "metadata": {},
   "outputs": [],
   "source": [
    "ba.deposit(4000)"
   ]
  },
  {
   "cell_type": "code",
   "execution_count": 16,
   "id": "eb4db118-e2bd-4291-a1d7-5e5172620681",
   "metadata": {},
   "outputs": [
    {
     "data": {
      "text/plain": [
       "(9000, 10)"
      ]
     },
     "execution_count": 16,
     "metadata": {},
     "output_type": "execute_result"
    }
   ],
   "source": [
    "ba.display()"
   ]
  },
  {
   "cell_type": "code",
   "execution_count": 17,
   "id": "9a5957d1-9b20-491a-9f6c-15d0f7075619",
   "metadata": {},
   "outputs": [],
   "source": [
    "ba.withdraw(3000)"
   ]
  },
  {
   "cell_type": "code",
   "execution_count": 18,
   "id": "042cfa21-ee36-48fd-ac6a-55f85127f2d9",
   "metadata": {},
   "outputs": [
    {
     "data": {
      "text/plain": [
       "(6000, 10)"
      ]
     },
     "execution_count": 18,
     "metadata": {},
     "output_type": "execute_result"
    }
   ],
   "source": [
    "ba.display()"
   ]
  },
  {
   "cell_type": "code",
   "execution_count": 19,
   "id": "c219b9c1-583f-45ba-a27f-aa147d5ebe82",
   "metadata": {},
   "outputs": [],
   "source": [
    "ba.withdraw(5000)"
   ]
  },
  {
   "cell_type": "code",
   "execution_count": 20,
   "id": "3def1c03-ea95-49f3-b69d-2d2b5a718a4d",
   "metadata": {},
   "outputs": [
    {
     "data": {
      "text/plain": [
       "(1000, 10)"
      ]
     },
     "execution_count": 20,
     "metadata": {},
     "output_type": "execute_result"
    }
   ],
   "source": [
    "ba.display()"
   ]
  },
  {
   "cell_type": "code",
   "execution_count": 21,
   "id": "a8e70eb8-56ee-4382-b983-54199a508811",
   "metadata": {},
   "outputs": [
    {
     "name": "stdout",
     "output_type": "stream",
     "text": [
      "Balance is less than withdrawal\n"
     ]
    }
   ],
   "source": [
    "ba.withdraw(2000)"
   ]
  },
  {
   "cell_type": "markdown",
   "id": "42e9d50e-43fd-4fcf-8cdc-1b6ab0e51201",
   "metadata": {},
   "source": [
    "Q4. Write a Python class called \"Animal\" with attributes for \"name\" and \"species\". Create a subclass of\n",
    "\"Animal\" called \"Dog\" with additional attributes for \"breed\" and \"owner\". Implement both classes with\n",
    "appropriate methods and constructors to initialise their properties. Create instances of both classes and\n",
    "use them to print out the various properties of the animals and dogs, such as their names, species,\n",
    "breeds, and owners."
   ]
  },
  {
   "cell_type": "code",
   "execution_count": 22,
   "id": "0ecad00d-786e-4f7c-bec4-3b438613169c",
   "metadata": {},
   "outputs": [],
   "source": [
    "class Animal:\n",
    "    def __init__(self,name,species):\n",
    "        self.name=name\n",
    "        self.species=species\n",
    "    def display_animal(self):\n",
    "        return self.name,self.species"
   ]
  },
  {
   "cell_type": "code",
   "execution_count": 23,
   "id": "b1b330b7-5ce1-4bf3-8195-d16c802abf2f",
   "metadata": {},
   "outputs": [],
   "source": [
    "class Dog(Animal):\n",
    "    def __init__(self,name, species,breed,owner):\n",
    "        super().__init__(name, species)\n",
    "        self.breed=breed\n",
    "        self.owner=owner\n",
    "        \n",
    "    def dog_display(self):\n",
    "        return self.breed,self.owner"
   ]
  },
  {
   "cell_type": "code",
   "execution_count": 24,
   "id": "184c6a72-dc99-49a7-b06c-f3182d479e17",
   "metadata": {},
   "outputs": [],
   "source": [
    "al=Animal('Tiger','Bulldog')"
   ]
  },
  {
   "cell_type": "code",
   "execution_count": 25,
   "id": "cd8b9789-28f6-4dd4-b07a-3b4fd5ea7ef6",
   "metadata": {},
   "outputs": [
    {
     "data": {
      "text/plain": [
       "('Tiger', 'Bulldog')"
      ]
     },
     "execution_count": 25,
     "metadata": {},
     "output_type": "execute_result"
    }
   ],
   "source": [
    "al.display_animal()"
   ]
  },
  {
   "cell_type": "code",
   "execution_count": 26,
   "id": "e909dabb-d3fe-4fbe-b271-180f69002ee5",
   "metadata": {},
   "outputs": [],
   "source": [
    "dg=Dog('Jimmy','Canis lupus','Labrador ','Abhishek')"
   ]
  },
  {
   "cell_type": "code",
   "execution_count": 27,
   "id": "212988a1-479d-4090-b1df-9028eab4fccf",
   "metadata": {},
   "outputs": [
    {
     "data": {
      "text/plain": [
       "('Jimmy', 'Canis lupus')"
      ]
     },
     "execution_count": 27,
     "metadata": {},
     "output_type": "execute_result"
    }
   ],
   "source": [
    "dg.display_animal()"
   ]
  },
  {
   "cell_type": "code",
   "execution_count": 28,
   "id": "a34f2541-dbcc-41fa-a807-9ff638049660",
   "metadata": {},
   "outputs": [
    {
     "data": {
      "text/plain": [
       "('Labrador ', 'Abhishek')"
      ]
     },
     "execution_count": 28,
     "metadata": {},
     "output_type": "execute_result"
    }
   ],
   "source": [
    "dg.dog_display()"
   ]
  },
  {
   "cell_type": "code",
   "execution_count": 29,
   "id": "cbfc27b1-1b3d-4b7f-9f7c-f3ba3730eca8",
   "metadata": {},
   "outputs": [
    {
     "data": {
      "text/plain": [
       "'Canis lupus'"
      ]
     },
     "execution_count": 29,
     "metadata": {},
     "output_type": "execute_result"
    }
   ],
   "source": [
    "dg.species"
   ]
  },
  {
   "cell_type": "markdown",
   "id": "926fe37a-5397-45ed-a60e-446aae0309b1",
   "metadata": {},
   "source": [
    "Q5.Create a class called \"Car\" with properties for \"make\", \"model\", and \"year\". Create a subclass of \"Car\" called \"ElectricCar\" with additional properties for \"battery_size\" and \"range\". Create objects of both classes and print out their properties."
   ]
  },
  {
   "cell_type": "code",
   "execution_count": 30,
   "id": "96b12fe5-eaea-435d-88fd-28c18ad387f3",
   "metadata": {},
   "outputs": [],
   "source": [
    "class Car:\n",
    "    def __init__(self,make,model,year):\n",
    "        self.make=make\n",
    "        self.model=model\n",
    "        self.year=year\n",
    "    \n",
    "    def diaplay_car(self):\n",
    "        return self.make,self.model,self.year"
   ]
  },
  {
   "cell_type": "code",
   "execution_count": 31,
   "id": "1f085e04-570e-47f0-aa10-81bb0babf6f0",
   "metadata": {},
   "outputs": [],
   "source": [
    "cr=Car('maruti','mq',2022)"
   ]
  },
  {
   "cell_type": "code",
   "execution_count": 32,
   "id": "0e2d98f6-db23-4b65-84fd-66d129895b03",
   "metadata": {},
   "outputs": [
    {
     "data": {
      "text/plain": [
       "('maruti', 'mq', 2022)"
      ]
     },
     "execution_count": 32,
     "metadata": {},
     "output_type": "execute_result"
    }
   ],
   "source": [
    "cr.diaplay_car()"
   ]
  },
  {
   "cell_type": "code",
   "execution_count": 33,
   "id": "7e12e7c1-e78c-4663-abea-86d98eae6882",
   "metadata": {},
   "outputs": [],
   "source": [
    "class ElectricCar(Car):\n",
    "    def __init__(self,make,model,year,battery_size,range):\n",
    "        super().__init__(make,model,year)\n",
    "        self.battery_size=battery_size\n",
    "        self.range=range\n",
    "        \n",
    "    def display_Electric_Car(self):\n",
    "        return self.make,self.model,self.year,self.battery_size,self.range"
   ]
  },
  {
   "cell_type": "code",
   "execution_count": 34,
   "id": "f9f1d32b-9d8b-4f7a-808e-203cb5df1318",
   "metadata": {},
   "outputs": [],
   "source": [
    "EC1=ElectricCar('Tata','Harrier',2021,4,1500000)"
   ]
  },
  {
   "cell_type": "code",
   "execution_count": 35,
   "id": "de89490b-6254-4cbc-88c7-7370cd1bb75d",
   "metadata": {},
   "outputs": [
    {
     "data": {
      "text/plain": [
       "('Tata', 'Harrier', 2021)"
      ]
     },
     "execution_count": 35,
     "metadata": {},
     "output_type": "execute_result"
    }
   ],
   "source": [
    "EC1.diaplay_car()"
   ]
  },
  {
   "cell_type": "code",
   "execution_count": 36,
   "id": "37f4530a-d8e0-44d9-b085-457c3806f196",
   "metadata": {},
   "outputs": [
    {
     "data": {
      "text/plain": [
       "('Tata', 'Harrier', 2021, 4, 1500000)"
      ]
     },
     "execution_count": 36,
     "metadata": {},
     "output_type": "execute_result"
    }
   ],
   "source": [
    "EC1.display_Electric_Car()"
   ]
  },
  {
   "cell_type": "code",
   "execution_count": 37,
   "id": "113f0224-2f86-48bd-949d-36de96857239",
   "metadata": {},
   "outputs": [
    {
     "data": {
      "text/plain": [
       "2021"
      ]
     },
     "execution_count": 37,
     "metadata": {},
     "output_type": "execute_result"
    }
   ],
   "source": [
    "EC1.year"
   ]
  },
  {
   "cell_type": "markdown",
   "id": "717e70e0-134e-4262-a958-c01a5822836b",
   "metadata": {},
   "source": [
    "Q6.Create a class called \"Student\" with properties for \"name\" and \"id\". Create a subclass of \"Student\" called \"GraduateStudent\" with additional properties for \"advisor\" and \"research_area\". Create objects of both classes and print out their properties."
   ]
  },
  {
   "cell_type": "code",
   "execution_count": 38,
   "id": "4eabe934-011a-4355-8538-30e864b5e0c6",
   "metadata": {},
   "outputs": [],
   "source": [
    "class Student:\n",
    "    def __init__(self,name,id):\n",
    "        self.name=name\n",
    "        self.id=id\n",
    "        \n",
    "    def display_student(self):\n",
    "        return self.name,self.id"
   ]
  },
  {
   "cell_type": "code",
   "execution_count": 39,
   "id": "8414b7b5-47b6-48fc-b6d7-a6d7a0b8b07f",
   "metadata": {},
   "outputs": [],
   "source": [
    "st1=Student(\"Abhishek\",2)"
   ]
  },
  {
   "cell_type": "code",
   "execution_count": 40,
   "id": "79f5451e-88d2-4996-953f-1b9098757c8f",
   "metadata": {},
   "outputs": [
    {
     "data": {
      "text/plain": [
       "('Abhishek', 2)"
      ]
     },
     "execution_count": 40,
     "metadata": {},
     "output_type": "execute_result"
    }
   ],
   "source": [
    "st1.display_student()"
   ]
  },
  {
   "cell_type": "code",
   "execution_count": 41,
   "id": "48294b61-95fc-426e-8602-8a5201e339eb",
   "metadata": {},
   "outputs": [
    {
     "data": {
      "text/plain": [
       "'Abhishek'"
      ]
     },
     "execution_count": 41,
     "metadata": {},
     "output_type": "execute_result"
    }
   ],
   "source": [
    "st1.name"
   ]
  },
  {
   "cell_type": "code",
   "execution_count": 42,
   "id": "3c625f93-66f6-49f0-8a94-72457539dd24",
   "metadata": {},
   "outputs": [
    {
     "data": {
      "text/plain": [
       "2"
      ]
     },
     "execution_count": 42,
     "metadata": {},
     "output_type": "execute_result"
    }
   ],
   "source": [
    "st1.id"
   ]
  },
  {
   "cell_type": "code",
   "execution_count": 43,
   "id": "381282d3-4a71-491f-a070-2cebd95d46a0",
   "metadata": {},
   "outputs": [],
   "source": [
    "class GraduateStudent(Student):\n",
    "    def __init__(self,name,id,advisor,research_area):\n",
    "        super().__init__(name,id)\n",
    "        self.advisor=advisor\n",
    "        self.research_area=research_area\n",
    "    \n",
    "    def desiplay_GraduateStudent(self):\n",
    "        return self.name,self.id,self.advisor,self.research_area"
   ]
  },
  {
   "cell_type": "code",
   "execution_count": 44,
   "id": "7610a695-0e67-402a-9a3b-2b52a650dc5e",
   "metadata": {},
   "outputs": [],
   "source": [
    "GS1=GraduateStudent('Nitesh',4,'Professor Pradhan','Data Science')"
   ]
  },
  {
   "cell_type": "code",
   "execution_count": 45,
   "id": "f671925c-ab3c-499e-8d9e-dc2b8030ebad",
   "metadata": {},
   "outputs": [
    {
     "data": {
      "text/plain": [
       "('Nitesh', 4, 'Professor Pradhan', 'Data Science')"
      ]
     },
     "execution_count": 45,
     "metadata": {},
     "output_type": "execute_result"
    }
   ],
   "source": [
    "GS1.desiplay_GraduateStudent()"
   ]
  },
  {
   "cell_type": "code",
   "execution_count": 46,
   "id": "152248fa-26c5-4093-a0ea-b137ae4b076a",
   "metadata": {},
   "outputs": [
    {
     "data": {
      "text/plain": [
       "'Data Science'"
      ]
     },
     "execution_count": 46,
     "metadata": {},
     "output_type": "execute_result"
    }
   ],
   "source": [
    "GS1.research_area"
   ]
  },
  {
   "cell_type": "markdown",
   "id": "43e13335-abfb-495a-aaa5-f4f680faf005",
   "metadata": {},
   "source": [
    "Q7. Create a class called \"Shape\" with methods to calculate the area and perimeter of the shape. Create subclasses of \"Shape\" for \"Rectangle\", \"Circle\", and \"Triangle\" with their own methods for calculating area and perimeter. Create objects of each class and print out their area and perimeter."
   ]
  },
  {
   "cell_type": "code",
   "execution_count": 47,
   "id": "05181c09-a206-48bf-80d0-96081795a384",
   "metadata": {},
   "outputs": [
    {
     "name": "stdout",
     "output_type": "stream",
     "text": [
      "Rectangle area: 15\n",
      "Rectangle perimeter: 16\n",
      "Circle area: 50.26548245743669\n",
      "Circle perimeter: 25.132741228718345\n",
      "Triangle area: 6.0\n",
      "Triangle perimeter: 12\n"
     ]
    }
   ],
   "source": [
    "import math\n",
    "\n",
    "# Define the Shape class\n",
    "class Shape:\n",
    "    def calculate_area(self):\n",
    "        pass\n",
    "    \n",
    "    def calculate_perimeter(self):\n",
    "        pass\n",
    "\n",
    "# Define the Rectangle class, which inherits from Shape\n",
    "class Rectangle(Shape):\n",
    "    def __init__(self, width, height):\n",
    "        self.width = width\n",
    "        self.height = height\n",
    "    \n",
    "    def calculate_area(self):\n",
    "        return self.width * self.height\n",
    "    \n",
    "    def calculate_perimeter(self):\n",
    "        return 2 * (self.width + self.height)\n",
    "\n",
    "# Define the Circle class, which inherits from Shape\n",
    "class Circle(Shape):\n",
    "    def __init__(self, radius):\n",
    "        self.radius = radius\n",
    "    \n",
    "    def calculate_area(self):\n",
    "        return math.pi * self.radius ** 2\n",
    "    \n",
    "    def calculate_perimeter(self):\n",
    "        return 2 * math.pi * self.radius\n",
    "\n",
    "# Define the Triangle class, which inherits from Shape\n",
    "class Triangle(Shape):\n",
    "    def __init__(self, a, b, c):\n",
    "        self.a = a\n",
    "        self.b = b\n",
    "        self.c = c\n",
    "    \n",
    "    def calculate_area(self):\n",
    "        s = (self.a + self.b + self.c) / 2\n",
    "        return math.sqrt(s * (s - self.a) * (s - self.b) * (s - self.c))\n",
    "    \n",
    "    def calculate_perimeter(self):\n",
    "        return self.a + self.b + self.c\n",
    "\n",
    "# Create objects of each class and print out their area and perimeter\n",
    "rectangle = Rectangle(5, 3)\n",
    "print(\"Rectangle area:\", rectangle.calculate_area())\n",
    "print(\"Rectangle perimeter:\", rectangle.calculate_perimeter())\n",
    "\n",
    "circle = Circle(4)\n",
    "print(\"Circle area:\", circle.calculate_area())\n",
    "print(\"Circle perimeter:\", circle.calculate_perimeter())\n",
    "\n",
    "triangle = Triangle(3, 4, 5)\n",
    "print(\"Triangle area:\", triangle.calculate_area())\n",
    "print(\"Triangle perimeter:\", triangle.calculate_perimeter())"
   ]
  },
  {
   "cell_type": "markdown",
   "id": "fd602ce3-e15c-4d5f-9d7a-b72b6932254a",
   "metadata": {},
   "source": [
    "Q8.Create a class called \"Employee\" with properties for \"name\", \"id\", and \"salary\". Add methods to give the employee a raise and to calculate their annual salary. Create objects of this class and test out the methods.\n"
   ]
  },
  {
   "cell_type": "code",
   "execution_count": 48,
   "id": "ae4b3545-a091-4b9b-be85-86917dc80044",
   "metadata": {},
   "outputs": [],
   "source": [
    "class Employee:\n",
    "    def __init__(self,name,id,salary):\n",
    "        self.name=name\n",
    "        self.id=id\n",
    "        self.salary=salary\n",
    "        \n",
    "    def raise_salary(self,increment):\n",
    "        self.salary=self.salary+self.salary*increment/100\n",
    "        \n",
    "    def annual_salary(self):\n",
    "        return self.salary*12"
   ]
  },
  {
   "cell_type": "code",
   "execution_count": 49,
   "id": "240dd33b-a5df-4f9e-9b83-274f3dca302f",
   "metadata": {},
   "outputs": [],
   "source": [
    "emp1=Employee('Aniket',4,100000)"
   ]
  },
  {
   "cell_type": "code",
   "execution_count": 50,
   "id": "5f2006d4-92e8-4e86-a810-3c2865f5fe63",
   "metadata": {},
   "outputs": [],
   "source": [
    "emp1.raise_salary(4)"
   ]
  },
  {
   "cell_type": "code",
   "execution_count": 51,
   "id": "9ddc33c5-f5dd-4fc0-bd89-a1181f667e94",
   "metadata": {},
   "outputs": [
    {
     "data": {
      "text/plain": [
       "104000.0"
      ]
     },
     "execution_count": 51,
     "metadata": {},
     "output_type": "execute_result"
    }
   ],
   "source": [
    "emp1.salary"
   ]
  },
  {
   "cell_type": "code",
   "execution_count": 52,
   "id": "8a9ed34a-3f82-4e76-b249-eb7d148006d8",
   "metadata": {},
   "outputs": [
    {
     "data": {
      "text/plain": [
       "1248000.0"
      ]
     },
     "execution_count": 52,
     "metadata": {},
     "output_type": "execute_result"
    }
   ],
   "source": [
    "emp1.annual_salary()"
   ]
  },
  {
   "cell_type": "markdown",
   "id": "16d0799f-a659-4fbe-83b3-f0bd89fcf0c7",
   "metadata": {},
   "source": [
    "Q9.Create a class called \"Book\" with properties for \"title\", \"author\", and \"publisher\". Create a subclass of \"Book\" called \"Ebook\" with additional properties for \"file_format\" and \"file_size\". Create objects of both classes and print out their properties.\n"
   ]
  },
  {
   "cell_type": "code",
   "execution_count": 53,
   "id": "bb5d7803-b522-4eb2-98a4-60be46831405",
   "metadata": {},
   "outputs": [],
   "source": [
    "class Book:\n",
    "    def __init__(self,title,author,publisher):\n",
    "        self.title=title\n",
    "        self.author=author\n",
    "        self.publisher=publisher\n",
    "        \n",
    "    def display_book(self):\n",
    "        return self.title,self.author,self.publisher"
   ]
  },
  {
   "cell_type": "code",
   "execution_count": 54,
   "id": "cd6ef68f-f8ac-4cdf-aebd-960244d265d5",
   "metadata": {},
   "outputs": [],
   "source": [
    "class Ebook(Book):\n",
    "    def __init__(self,title,author,publisher,file_format,file_size):\n",
    "        super().__init__(title,author,publisher)\n",
    "        self.file_format=file_format\n",
    "        self.file_size=file_size\n",
    "        \n",
    "    def display_EBook(self):\n",
    "        return self.title,self.author,self.publisher,self.file_format,self.file_size"
   ]
  },
  {
   "cell_type": "code",
   "execution_count": 55,
   "id": "5040b4bd-bc86-4488-bb5f-48644045cc39",
   "metadata": {},
   "outputs": [],
   "source": [
    "book1=Book('Think and Grow Rich','Nopalien Hill','The Ralston Society')"
   ]
  },
  {
   "cell_type": "code",
   "execution_count": 56,
   "id": "78e6a900-769d-4dad-90a6-f96ddb78cd9e",
   "metadata": {},
   "outputs": [
    {
     "data": {
      "text/plain": [
       "('Think and Grow Rich', 'Nopalien Hill', 'The Ralston Society')"
      ]
     },
     "execution_count": 56,
     "metadata": {},
     "output_type": "execute_result"
    }
   ],
   "source": [
    "book1.display_book()"
   ]
  },
  {
   "cell_type": "code",
   "execution_count": 57,
   "id": "510c47db-5981-4600-b286-07c6c8eca183",
   "metadata": {},
   "outputs": [],
   "source": [
    "Ebook1=Ebook('Scion of Ikshvaku','Amish Tripathi','Westland Press','pdf','100kb')"
   ]
  },
  {
   "cell_type": "code",
   "execution_count": 58,
   "id": "7752fdaf-030b-476c-85bf-ad39e9312ade",
   "metadata": {},
   "outputs": [
    {
     "data": {
      "text/plain": [
       "('Scion of Ikshvaku', 'Amish Tripathi', 'Westland Press', 'pdf', '100kb')"
      ]
     },
     "execution_count": 58,
     "metadata": {},
     "output_type": "execute_result"
    }
   ],
   "source": [
    "Ebook1.display_EBook()"
   ]
  },
  {
   "cell_type": "markdown",
   "id": "0a93d24b-134b-4bc2-9d0a-ba003510e30c",
   "metadata": {},
   "source": [
    "Q10.Create a class called \"Bank\" with properties for \"name\" and \"accounts\". Add methods to create new accounts, deposit and withdraw money from accounts, and to calculate the total balance of all accounts. Create an object of this class and test out the methods."
   ]
  },
  {
   "cell_type": "code",
   "execution_count": 60,
   "id": "1e6e43b4-52bd-45c3-89fb-e236b640660a",
   "metadata": {},
   "outputs": [
    {
     "name": "stdout",
     "output_type": "stream",
     "text": [
      "Total balance before transactions: 6000\n",
      "Total balance after transactions: 4500\n",
      "\n",
      "Account details:\n",
      "Account Number: 1\n",
      "Account Holder: John Doe\n",
      "Balance: 1500\n",
      "Account Number: 2\n",
      "Account Holder: Jane Smith\n",
      "Balance: 3000\n"
     ]
    }
   ],
   "source": [
    "class Bank:\n",
    "    def __init__(self, name):\n",
    "        self.name = name\n",
    "        self.accounts = []\n",
    "\n",
    "    def create_account(self, account_holder, initial_balance=0):\n",
    "        account = Account(account_holder, initial_balance)\n",
    "        self.accounts.append(account)\n",
    "\n",
    "    def deposit(self, account_number, amount):\n",
    "        account = self._find_account(account_number)\n",
    "        if account:\n",
    "            account.deposit(amount)\n",
    "        else:\n",
    "            print(\"Account not found.\")\n",
    "\n",
    "    def withdraw(self, account_number, amount):\n",
    "        account = self._find_account(account_number)\n",
    "        if account:\n",
    "            account.withdraw(amount)\n",
    "        else:\n",
    "            print(\"Account not found.\")\n",
    "\n",
    "    def total_balance(self):\n",
    "        total = 0\n",
    "        for account in self.accounts:\n",
    "            total += account.balance\n",
    "        return total\n",
    "\n",
    "    def _find_account(self, account_number):\n",
    "        for account in self.accounts:\n",
    "            if account.account_number == account_number:\n",
    "                return account\n",
    "        return None\n",
    "\n",
    "\n",
    "class Account:\n",
    "    next_account_number = 1\n",
    "\n",
    "    def __init__(self, account_holder, initial_balance):\n",
    "        self.account_number = Account.next_account_number\n",
    "        Account.next_account_number += 1\n",
    "        self.account_holder = account_holder\n",
    "        self.balance = initial_balance\n",
    "\n",
    "    def deposit(self, amount):\n",
    "        if amount > 0:\n",
    "            self.balance += amount\n",
    "        else:\n",
    "            print(\"Invalid amount for deposit.\")\n",
    "\n",
    "    def withdraw(self, amount):\n",
    "        if amount <= self.balance:\n",
    "            self.balance -= amount\n",
    "        else:\n",
    "            print(\"Insufficient funds.\")\n",
    "\n",
    "    def __str__(self):\n",
    "        return f\"Account Number: {self.account_number}\\nAccount Holder: {self.account_holder}\\nBalance: {self.balance}\"\n",
    "\n",
    "\n",
    "# Test the Bank class\n",
    "my_bank = Bank(\"My Bank\")\n",
    "\n",
    "my_bank.create_account(\"John Doe\", 1000)\n",
    "my_bank.create_account(\"Jane Smith\", 5000)\n",
    "\n",
    "print(\"Total balance before transactions:\", my_bank.total_balance())\n",
    "\n",
    "my_bank.deposit(1, 500)\n",
    "my_bank.withdraw(2, 2000)\n",
    "\n",
    "print(\"Total balance after transactions:\", my_bank.total_balance())\n",
    "\n",
    "print(\"\\nAccount details:\")\n",
    "for account in my_bank.accounts:\n",
    "    print(account)\n"
   ]
  },
  {
   "cell_type": "code",
   "execution_count": 61,
   "id": "0f7e133a-27f8-4f07-ae45-35d1cf82dfd1",
   "metadata": {},
   "outputs": [],
   "source": [
    "my_bank.create_account(\"Abhishek\",3000)"
   ]
  },
  {
   "cell_type": "code",
   "execution_count": 62,
   "id": "6ce1ef15-6de6-4133-a6f0-0a4084a9bdab",
   "metadata": {},
   "outputs": [
    {
     "data": {
      "text/plain": [
       "7500"
      ]
     },
     "execution_count": 62,
     "metadata": {},
     "output_type": "execute_result"
    }
   ],
   "source": [
    "my_bank.total_balance()"
   ]
  },
  {
   "cell_type": "code",
   "execution_count": 63,
   "id": "3fc45679-4d36-4a21-9c45-5bc5e0d84f8b",
   "metadata": {},
   "outputs": [
    {
     "name": "stdout",
     "output_type": "stream",
     "text": [
      "Account Number: 1\n",
      "Account Holder: John Doe\n",
      "Balance: 1500\n",
      "Account Number: 2\n",
      "Account Holder: Jane Smith\n",
      "Balance: 3000\n",
      "Account Number: 3\n",
      "Account Holder: Abhishek\n",
      "Balance: 3000\n"
     ]
    }
   ],
   "source": [
    "for account in my_bank.accounts:\n",
    "    print(account)"
   ]
  },
  {
   "cell_type": "code",
   "execution_count": null,
   "id": "bb454bb8-0eb7-46cb-93b5-c82cbf9972ac",
   "metadata": {},
   "outputs": [],
   "source": []
  }
 ],
 "metadata": {
  "kernelspec": {
   "display_name": "Python 3 (ipykernel)",
   "language": "python",
   "name": "python3"
  },
  "language_info": {
   "codemirror_mode": {
    "name": "ipython",
    "version": 3
   },
   "file_extension": ".py",
   "mimetype": "text/x-python",
   "name": "python",
   "nbconvert_exporter": "python",
   "pygments_lexer": "ipython3",
   "version": "3.10.8"
  }
 },
 "nbformat": 4,
 "nbformat_minor": 5
}
